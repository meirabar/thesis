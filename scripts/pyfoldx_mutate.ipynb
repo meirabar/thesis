{
 "cells": [
  {
   "cell_type": "code",
   "execution_count": 90,
   "id": "c034c414-7714-489a-9340-01bcdcd0380c",
   "metadata": {},
   "outputs": [],
   "source": [
    "import numpy as np\n",
    "import matplotlib.pyplot as plt\n",
    "import seaborn as sns\n",
    "from pyfoldx.foldx import foldxHandler\n",
    "from pyfoldx.structure import structure\n",
    "import pandas as pd\n",
    "from Bio import SeqIO\n",
    "from Bio.PDB import PDBParser, PPBuilder\n",
    "from pyfoldx.structure.structure import Structure\n",
    "from io import StringIO"
   ]
  },
  {
   "cell_type": "code",
   "execution_count": 108,
   "id": "da02e6d5-70f3-4b3b-9753-259f37fc41c1",
   "metadata": {},
   "outputs": [
    {
     "ename": "AttributeError",
     "evalue": "'str' object has no attribute 'toPdbFile'",
     "output_type": "error",
     "traceback": [
      "\u001b[0;31m---------------------------------------------------------------------------\u001b[0m",
      "\u001b[0;31mAttributeError\u001b[0m                            Traceback (most recent call last)",
      "Cell \u001b[0;32mIn [108], line 90\u001b[0m\n\u001b[1;32m     87\u001b[0m     plot_heatmap(delta_g_values, mutations)\n\u001b[1;32m     89\u001b[0m \u001b[38;5;28;01mif\u001b[39;00m \u001b[38;5;18m__name__\u001b[39m \u001b[38;5;241m==\u001b[39m \u001b[38;5;124m\"\u001b[39m\u001b[38;5;124m__main__\u001b[39m\u001b[38;5;124m\"\u001b[39m:\n\u001b[0;32m---> 90\u001b[0m     \u001b[43mmain\u001b[49m\u001b[43m(\u001b[49m\u001b[43m)\u001b[49m\n",
      "Cell \u001b[0;32mIn [108], line 84\u001b[0m, in \u001b[0;36mmain\u001b[0;34m()\u001b[0m\n\u001b[1;32m     81\u001b[0m \u001b[38;5;28;01mdef\u001b[39;00m \u001b[38;5;21mmain\u001b[39m():\n\u001b[1;32m     82\u001b[0m     pdb_file_path \u001b[38;5;241m=\u001b[39m \u001b[38;5;124m\"\u001b[39m\u001b[38;5;124m/home/labs/rudich/meiray/meirab/foldx/1A0N.pdb\u001b[39m\u001b[38;5;124m\"\u001b[39m  \u001b[38;5;66;03m# Path to your PDB file\u001b[39;00m\n\u001b[0;32m---> 84\u001b[0m     mutations, delta_g_values \u001b[38;5;241m=\u001b[39m \u001b[43mcalculate_delta_G\u001b[49m\u001b[43m(\u001b[49m\u001b[43mpdb_file_path\u001b[49m\u001b[43m)\u001b[49m\n\u001b[1;32m     86\u001b[0m     \u001b[38;5;66;03m# Plot the heatmap with the calculated delta G values\u001b[39;00m\n\u001b[1;32m     87\u001b[0m     plot_heatmap(delta_g_values, mutations)\n",
      "Cell \u001b[0;32mIn [108], line 61\u001b[0m, in \u001b[0;36mcalculate_delta_G\u001b[0;34m(pdb_file_path)\u001b[0m\n\u001b[1;32m     59\u001b[0m \u001b[38;5;66;03m# Compute delta G for each mutation using foldxHandler\u001b[39;00m\n\u001b[1;32m     60\u001b[0m \u001b[38;5;28;01mfor\u001b[39;00m mutation \u001b[38;5;129;01min\u001b[39;00m mutations:\n\u001b[0;32m---> 61\u001b[0m     ddGs, mutModels, wtModels \u001b[38;5;241m=\u001b[39m \u001b[43mfoldxHandler\u001b[49m\u001b[38;5;241;43m.\u001b[39;49m\u001b[43mgetMutants\u001b[49m\u001b[43m(\u001b[49m\u001b[43mtemp_pdb_path\u001b[49m\u001b[43m,\u001b[49m\u001b[43m \u001b[49m\u001b[43mmutation\u001b[49m\u001b[43m,\u001b[49m\u001b[43m \u001b[49m\u001b[38;5;241;43m1\u001b[39;49m\u001b[43m)\u001b[49m\n\u001b[1;32m     62\u001b[0m     all_ddGs\u001b[38;5;241m.\u001b[39mappend(ddGs[\u001b[38;5;124m'\u001b[39m\u001b[38;5;124mddG\u001b[39m\u001b[38;5;124m'\u001b[39m][\u001b[38;5;241m0\u001b[39m])  \u001b[38;5;66;03m# Extract delta G value from the result\u001b[39;00m\n\u001b[1;32m     64\u001b[0m \u001b[38;5;28;01mreturn\u001b[39;00m mutations, np\u001b[38;5;241m.\u001b[39marray(all_ddGs)\n",
      "File \u001b[0;32m~/.local/lib/python3.10/site-packages/pyfoldx/foldx/foldxHandler.py:220\u001b[0m, in \u001b[0;36mgetMutants\u001b[0;34m(st, mutations, number_of_runs, other_parameters)\u001b[0m\n\u001b[1;32m    217\u001b[0m TMP_FOLDER \u001b[38;5;241m=\u001b[39m getJobFolder()\n\u001b[1;32m    219\u001b[0m \u001b[38;5;66;03m# Write pdb\u001b[39;00m\n\u001b[0;32m--> 220\u001b[0m \u001b[43mst\u001b[49m\u001b[38;5;241;43m.\u001b[39;49m\u001b[43mtoPdbFile\u001b[49m(TMP_FOLDER\u001b[38;5;241m+\u001b[39m\u001b[38;5;124m\"\u001b[39m\u001b[38;5;124mtmp.pdb\u001b[39m\u001b[38;5;124m\"\u001b[39m)\n\u001b[1;32m    222\u001b[0m \u001b[38;5;66;03m# Write individual_list\u001b[39;00m\n\u001b[1;32m    223\u001b[0m FileHandler\u001b[38;5;241m.\u001b[39mwriteLine(TMP_FOLDER\u001b[38;5;241m+\u001b[39m\u001b[38;5;124m\"\u001b[39m\u001b[38;5;124mindividual_list.txt\u001b[39m\u001b[38;5;124m\"\u001b[39m, mutations)\n",
      "\u001b[0;31mAttributeError\u001b[0m: 'str' object has no attribute 'toPdbFile'"
     ]
    }
   ],
   "source": [
    "\n",
    "# Function to generate all possible mutations for a given protein\n",
    "def generate_all_mutations(sequence):\n",
    "    amino_acids = [\"A\", \"C\", \"D\", \"E\", \"F\", \"G\", \"H\", \"I\", \"K\", \"L\", \"M\", \"N\", \"P\", \"Q\", \"R\", \"S\", \"T\", \"V\", \"W\", \"Y\"]\n",
    "    mutations = []\n",
    "    for i, aa in enumerate(sequence):\n",
    "        for new_aa in amino_acids:\n",
    "            if new_aa != aa:\n",
    "                mutations.append(f\"{aa}{i+1}{new_aa}\")  # Format like GI29A\n",
    "    return mutations\n",
    "\n",
    "# Function to read the PDB file from a local path\n",
    "def read_pdb_from_file(pdb_file_path):\n",
    "    with open(pdb_file_path, 'r') as file:\n",
    "        pdb_string = file.read()\n",
    "    return pdb_string\n",
    "\n",
    "# Function to extract chains and sequences from PDB\n",
    "def extract_chains_and_sequence(pdb_string):\n",
    "    parser = PDBParser(QUIET=True)\n",
    "    # Use StringIO to treat pdb_string as a file-like object\n",
    "    pdb_file = StringIO(pdb_string)\n",
    "    structure = parser.get_structure(\"protein\", pdb_file)\n",
    "    chains = {}\n",
    "    for model in structure:  # Iterate over models (usually only one)\n",
    "        for chain in model:  # Iterate over chains\n",
    "            chain_id = chain.id\n",
    "            sequence = \"\"\n",
    "            for residue in chain:\n",
    "                # Skip non-standard residues\n",
    "                if residue.id[0] == \" \":\n",
    "                    sequence += residue.resname[0]  # Get the first letter of the 3-letter residue code\n",
    "            chains[chain_id] = sequence\n",
    "    return chains\n",
    "\n",
    "from Bio.PDB import PDBIO\n",
    "\n",
    "# Function to compute delta G for all mutations\n",
    "def calculate_delta_G(pdb_file_path):\n",
    "    pdb_string = read_pdb_from_file(pdb_file_path)  # Read the PDB structure from the file\n",
    "    parser = PDBParser(QUIET=True)\n",
    "    \n",
    "    # Parse the PDB structure\n",
    "    structure = parser.get_structure(\"protein\", pdb_file_path)\n",
    "    \n",
    "    # Save the structure to a temporary PDB file\n",
    "    io = PDBIO()\n",
    "    temp_pdb_path = \"/home/labs/rudich/meiray/meirab/temp.pdb\"  # Define the path for the temporary PDB file\n",
    "    io.set_structure(structure)\n",
    "    io.save(temp_pdb_path)\n",
    "\n",
    "    # Extract chains and sequence from PDB string\n",
    "    chains = extract_chains_and_sequence(pdb_string)\n",
    "    \n",
    "    # Here, we assume we're working with the sequence of the first chain (can be modified if necessary)\n",
    "    wildtype_sequence = chains[list(chains.keys())[0]]  # Get the sequence of the first chain\n",
    "    mutations = generate_all_mutations(wildtype_sequence)\n",
    "    all_ddGs = []  # Store delta G values\n",
    "\n",
    "    # Compute delta G for each mutation using foldxHandler\n",
    "    for mutation in mutations:\n",
    "        ddGs, mutModels, wtModels = foldxHandler.getMutants(temp_pdb_path, mutation, 1)\n",
    "        all_ddGs.append(ddGs['ddG'][0])  # Extract delta G value from the result\n",
    "    \n",
    "    return mutations, np.array(all_ddGs)\n",
    "\n",
    "# Function to plot heatmap\n",
    "def plot_heatmap(delta_g_values, mutations):\n",
    "    # Reshape delta G values to a 2D grid for the heatmap (e.g., assuming the protein is in a grid-like arrangement)\n",
    "    grid_size = int(np.sqrt(len(delta_g_values)))  # This will work if the number of mutations is a perfect square\n",
    "    delta_g_values_grid = delta_g_values[:grid_size**2].reshape(grid_size, grid_size)\n",
    "\n",
    "    # Plotting the heatmap\n",
    "    plt.figure(figsize=(8, 6))\n",
    "    sns.heatmap(delta_g_values_grid, cmap='coolwarm', annot=True, fmt=\".2f\", xticklabels=mutations[:grid_size], yticklabels=mutations[:grid_size])\n",
    "    plt.title(f\"Heatmap of ΔG for Mutations of Protein\")\n",
    "    plt.xlabel(\"Mutation\")\n",
    "    plt.ylabel(\"Mutation\")\n",
    "    plt.show()\n",
    "\n",
    "# Main function to call everything\n",
    "def main():\n",
    "    pdb_file_path = \"/home/labs/rudich/meiray/meirab/foldx/1A0N.pdb\"  # Path to your PDB file\n",
    "    \n",
    "    mutations, delta_g_values = calculate_delta_G(pdb_file_path)\n",
    "    \n",
    "    # Plot the heatmap with the calculated delta G values\n",
    "    plot_heatmap(delta_g_values, mutations)\n",
    "\n",
    "if __name__ == \"__main__\":\n",
    "    main()\n"
   ]
  },
  {
   "cell_type": "code",
   "execution_count": null,
   "id": "3eabb943-fe98-445a-a223-0c59bc33a8a9",
   "metadata": {},
   "outputs": [],
   "source": [
    "from Bio.PDB import PDBIO\n",
    "\n",
    "# Function to compute delta G for all mutations\n",
    "def calculate_delta_G(pdb_file_path):\n",
    "    pdb_string = read_pdb_from_file(pdb_file_path)  # Read the PDB structure from the file\n",
    "    parser = PDBParser(QUIET=True)\n",
    "    \n",
    "    # Parse the PDB structure\n",
    "    structure = parser.get_structure(\"protein\", pdb_file_path)\n",
    "    \n",
    "    # Save the structure to a temporary PDB file\n",
    "    io = PDBIO()\n",
    "    temp_pdb_path = \"/path/to/temp.pdb\"  # Define the path for the temporary PDB file\n",
    "    io.set_structure(structure)\n",
    "    io.save(temp_pdb_path)\n",
    "\n",
    "    # Extract chains and sequence from PDB string\n",
    "    chains = extract_chains_and_sequence(pdb_string)\n",
    "    \n",
    "    # Here, we assume we're working with the sequence of the first chain (can be modified if necessary)\n",
    "    wildtype_sequence = chains[list(chains.keys())[0]]  # Get the sequence of the first chain\n",
    "    mutations = generate_all_mutations(wildtype_sequence)\n",
    "    all_ddGs = []  # Store delta G values\n",
    "\n",
    "    # Compute delta G for each mutation using foldxHandler\n",
    "    for mutation in mutations:\n",
    "        ddGs, mutModels, wtModels = foldxHandler.getMutants(temp_pdb_path, mutation, 1)\n",
    "        all_ddGs.append(ddGs['ddG'][0])  # Extract delta G value from the result\n",
    "    \n",
    "    return mutations, np.array(all_ddGs)\n"
   ]
  },
  {
   "cell_type": "code",
   "execution_count": 78,
   "id": "f86de983-24d8-49d0-80a3-11e90820639f",
   "metadata": {},
   "outputs": [
    {
     "ename": "ModuleNotFoundError",
     "evalue": "No module named 'foldxHandler'",
     "output_type": "error",
     "traceback": [
      "\u001b[0;31m---------------------------------------------------------------------------\u001b[0m",
      "\u001b[0;31mModuleNotFoundError\u001b[0m                       Traceback (most recent call last)",
      "Cell \u001b[0;32mIn [79], line 5\u001b[0m\n\u001b[1;32m      3\u001b[0m \u001b[38;5;28;01mimport\u001b[39;00m \u001b[38;5;21;01mseaborn\u001b[39;00m \u001b[38;5;28;01mas\u001b[39;00m \u001b[38;5;21;01msns\u001b[39;00m\n\u001b[1;32m      4\u001b[0m \u001b[38;5;28;01mimport\u001b[39;00m \u001b[38;5;21;01mmatplotlib\u001b[39;00m\u001b[38;5;21;01m.\u001b[39;00m\u001b[38;5;21;01mpyplot\u001b[39;00m \u001b[38;5;28;01mas\u001b[39;00m \u001b[38;5;21;01mplt\u001b[39;00m\n\u001b[0;32m----> 5\u001b[0m \u001b[38;5;28;01mimport\u001b[39;00m \u001b[38;5;21;01mfoldxHandler\u001b[39;00m  \u001b[38;5;66;03m# Assuming this is your custom module for foldx\u001b[39;00m\n\u001b[1;32m      6\u001b[0m \u001b[38;5;28;01mimport\u001b[39;00m \u001b[38;5;21;01mpyfoldx\u001b[39;00m  \u001b[38;5;66;03m# Import pyfoldx to work with its structure\u001b[39;00m\n\u001b[1;32m      8\u001b[0m \u001b[38;5;66;03m# Function to generate all possible mutations for a given protein\u001b[39;00m\n",
      "\u001b[0;31mModuleNotFoundError\u001b[0m: No module named 'foldxHandler'"
     ]
    }
   ],
   "source": [
    "\n",
    "# Function to generate all possible mutations for a given protein\n",
    "def generate_all_mutations(sequence):\n",
    "    amino_acids = [\"A\", \"C\", \"D\", \"E\", \"F\", \"G\", \"H\", \"I\", \"K\", \"L\", \"M\", \"N\", \"P\", \"Q\", \"R\", \"S\", \"T\", \"V\", \"W\", \"Y\"]\n",
    "    mutations = []\n",
    "    for i, aa in enumerate(sequence):\n",
    "        for new_aa in amino_acids:\n",
    "            if new_aa != aa:\n",
    "                mutations.append(f\"{aa}{i+1}{new_aa}\")  # Format like GI29A\n",
    "    return mutations\n",
    "\n",
    "# Function to read the PDB file from a local path\n",
    "def read_pdb_from_file(pdb_file_path):\n",
    "    with open(pdb_file_path, 'r') as file:\n",
    "        pdb_string = file.read()\n",
    "    return pdb_string\n",
    "\n",
    "\n",
    "def extract_chains_and_sequence(pdb_file):\n",
    "    parser = PDBParser(QUIET=True)\n",
    "    structure = parser.get_structure(\"protein\", pdb_file)\n",
    "    chains = {}\n",
    "    for model in structure:  # Iterate over models (usually only one)\n",
    "        for chain in model:  # Iterate over chains\n",
    "            chain_id = chain.id\n",
    "            sequence = \"\"\n",
    "            for residue in chain:\n",
    "                # Skip non-standard residues\n",
    "                if residue.id[0] == \" \":\n",
    "                    sequence += residue.resname[0]  # Get the first letter of the 3-letter residue code\n",
    "            chains[chain_id] = sequence\n",
    "\n",
    "    return chains\n",
    "\n",
    "# Function to compute delta G for all mutations\n",
    "def calculate_delta_G(pdb_file_path):\n",
    "    pdb_string = read_pdb_from_file(pdb_file_path)  # Read the PDB structure from the file\n",
    "\n",
    "    # Extract chains and sequence from PDB string\n",
    "    chains = extract_chains_and_sequence(pdb_file_path)\n",
    "    \n",
    "    # Here, we assume we're working with the sequence of the first chain (can be modified if necessary)\n",
    "    wildtype_sequence = chains[list(chains.keys())[0]]  # Get the sequence of the first chain\n",
    "    mutations = generate_all_mutations(wildtype_sequence)\n",
    "    all_ddGs = []  # Store delta G values\n",
    "\n",
    "    # Compute delta G for each mutation using foldxHandler (assuming it's defined)\n",
    "    for mutation in mutations:\n",
    "        ddGs, mutModels, wtModels = foldxHandler.getMutants(pdb_string, mutation, 1)\n",
    "        all_ddGs.append(ddGs['ddG'][0])  # Extract delta G value from the result\n",
    "    \n",
    "    return mutations, np.array(all_ddGs)\n",
    "\n",
    "# Function to plot heatmap\n",
    "def plot_heatmap(delta_g_values, mutations):\n",
    "    # Reshape delta G values to a 2D grid for the heatmap (e.g., assuming the protein is in a grid-like arrangement)\n",
    "    grid_size = int(np.sqrt(len(delta_g_values)))  # This will work if the number of mutations is a perfect square\n",
    "    delta_g_values_grid = delta_g_values[:grid_size**2].reshape(grid_size, grid_size)\n",
    "\n",
    "    # Plotting the heatmap\n",
    "    plt.figure(figsize=(8, 6))\n",
    "    sns.heatmap(delta_g_values_grid, cmap='coolwarm', annot=True, fmt=\".2f\", xticklabels=mutations[:grid_size], yticklabels=mutations[:grid_size])\n",
    "    plt.title(f\"Heatmap of ΔG for Mutations of Protein\")\n",
    "    plt.xlabel(\"Mutation\")\n",
    "    plt.ylabel(\"Mutation\")\n",
    "    plt.show()\n",
    "\n",
    "# Main function to call everything\n",
    "def main():\n",
    "    pdb_file_path = \"/home/labs/rudich/meiray/meirab/foldx/1A0N.pdb\"  # Path to your PDB file\n",
    "    \n",
    "    mutations, delta_g_values = calculate_delta_G(pdb_file_path)\n",
    "    \n",
    "    # Plot the heatmap with the calculated delta G values\n",
    "    plot_heatmap(delta_g_values, mutations)\n",
    "\n",
    "if __name__ == \"__main__\":\n",
    "    main()\n"
   ]
  },
  {
   "cell_type": "code",
   "execution_count": null,
   "id": "a44f74ac-e3a1-43bd-b95d-af39a7607560",
   "metadata": {},
   "outputs": [],
   "source": []
  },
  {
   "cell_type": "code",
   "execution_count": 64,
   "id": "3426afde-5aec-4f4e-8418-313a3df00499",
   "metadata": {},
   "outputs": [
    {
     "name": "stdout",
     "output_type": "stream",
     "text": [
      "<Structure id=protein>\n",
      "Chain A: GLLGIPGLTALGGAGGLSLGGLLLLLGTGPPSLLLGMSTLAGLPGGLALAGAGGVSPGGPGVLVLLIS\n"
     ]
    }
   ],
   "source": [
    "def extract_chains_and_sequence(pdb_file):\n",
    "    parser = PDBParser(QUIET=True)\n",
    "    structure = parser.get_structure(\"protein\", pdb_file)\n",
    "    print(structure)\n",
    "    chains = {}\n",
    "    for model in structure:  # Iterate over models (usually only one)\n",
    "        for chain in model:  # Iterate over chains\n",
    "            chain_id = chain.id\n",
    "            sequence = \"\"\n",
    "            for residue in chain:\n",
    "                # Skip non-standard residues\n",
    "                if residue.id[0] == \" \":\n",
    "                    sequence += residue.resname[0]  # Get the first letter of the 3-letter residue code\n",
    "            chains[chain_id] = sequence\n",
    "\n",
    "    return chains\n",
    "\n",
    "pdb_file = \"/home/labs/rudich/meiray/meirab/foldx/1BOD.pdb\"\n",
    "# sequence = extract_sequence_from_pdb(pdb_file)\n",
    "chains = extract_chains_and_sequence(pdb_file)\n",
    "\n",
    "for chain_id, sequence in chains.items():\n",
    "    print(f\"Chain {chain_id}: {sequence}\")"
   ]
  },
  {
   "cell_type": "code",
   "execution_count": 65,
   "id": "46e6d912-b4fa-44d5-889f-70e440ca50fa",
   "metadata": {},
   "outputs": [
    {
     "name": "stdout",
     "output_type": "stream",
     "text": [
      "<Structure id=protein>\n"
     ]
    }
   ],
   "source": [
    "chains = extract_chains_and_sequence(pdb_file)\n"
   ]
  },
  {
   "cell_type": "code",
   "execution_count": 66,
   "id": "ebe4db05-fc17-437d-89a4-5a2dea28c6e1",
   "metadata": {},
   "outputs": [
    {
     "data": {
      "text/plain": [
       "'GLLGIPGLTALGGAGGLSLGGLLLLLGTGPPSLLLGMSTLAGLPGGLALAGAGGVSPGGPGVLVLLIS'"
      ]
     },
     "execution_count": 66,
     "metadata": {},
     "output_type": "execute_result"
    }
   ],
   "source": [
    "sequence"
   ]
  },
  {
   "cell_type": "code",
   "execution_count": 62,
   "id": "4ac7b749-ae9f-40a5-8ff8-4efd18e51821",
   "metadata": {},
   "outputs": [
    {
     "data": {
      "text/plain": [
       "dict_items([('A', 'GLLGIPGLTALGGAGGLSLGGLLLLLGTGPPSLLLGMSTLAGLPGGLALAGAGGVSPGGPGVLVLLIS')])"
      ]
     },
     "execution_count": 62,
     "metadata": {},
     "output_type": "execute_result"
    }
   ],
   "source": [
    "chains.items()"
   ]
  },
  {
   "cell_type": "code",
   "execution_count": 61,
   "id": "ab8b43c1-d773-4bf4-af62-5164156bb028",
   "metadata": {},
   "outputs": [
    {
     "ename": "ValueError",
     "evalue": "not enough values to unpack (expected 2, got 1)",
     "output_type": "error",
     "traceback": [
      "\u001b[0;31m---------------------------------------------------------------------------\u001b[0m",
      "\u001b[0;31mValueError\u001b[0m                                Traceback (most recent call last)",
      "Cell \u001b[0;32mIn [61], line 1\u001b[0m\n\u001b[0;32m----> 1\u001b[0m chain_id, sequence \u001b[38;5;241m=\u001b[39m chains\u001b[38;5;241m.\u001b[39mitems()\n",
      "\u001b[0;31mValueError\u001b[0m: not enough values to unpack (expected 2, got 1)"
     ]
    }
   ],
   "source": [
    "chain_id, sequence = chains.items()"
   ]
  },
  {
   "cell_type": "code",
   "execution_count": 120,
   "id": "874a6355-a387-479e-a029-cfb2840becbc",
   "metadata": {},
   "outputs": [
    {
     "data": {
      "text/plain": [
       "['__class__',\n",
       " '__delattr__',\n",
       " '__dict__',\n",
       " '__dir__',\n",
       " '__doc__',\n",
       " '__eq__',\n",
       " '__format__',\n",
       " '__ge__',\n",
       " '__getattribute__',\n",
       " '__gt__',\n",
       " '__hash__',\n",
       " '__init__',\n",
       " '__init_subclass__',\n",
       " '__le__',\n",
       " '__lt__',\n",
       " '__module__',\n",
       " '__ne__',\n",
       " '__new__',\n",
       " '__reduce__',\n",
       " '__reduce_ex__',\n",
       " '__repr__',\n",
       " '__setattr__',\n",
       " '__sizeof__',\n",
       " '__str__',\n",
       " '__subclasshook__',\n",
       " '__weakref__',\n",
       " '_addCifAtom',\n",
       " '_addPdbAtom',\n",
       " 'addAtom',\n",
       " 'alanineScan',\n",
       " 'getInterfaceEnergy',\n",
       " 'getMinMaxBFactor',\n",
       " 'getNetworks',\n",
       " 'getResiduesEnergy',\n",
       " 'getSequence',\n",
       " 'getTotalEnergy',\n",
       " 'mutate',\n",
       " 'positionScan',\n",
       " 'repair',\n",
       " 'setResolution',\n",
       " 'toPdb',\n",
       " 'toPdbFile']"
      ]
     },
     "execution_count": 120,
     "metadata": {},
     "output_type": "execute_result"
    }
   ],
   "source": [
    "import pyfoldx\n",
    "dir(pyfoldx.structure.structure.Structure)\n"
   ]
  },
  {
   "cell_type": "code",
   "execution_count": 128,
   "id": "e15df7ec-801b-418b-aa46-558a342b98c5",
   "metadata": {},
   "outputs": [],
   "source": [
    "from pyfoldx.structure import Structure"
   ]
  },
  {
   "cell_type": "code",
   "execution_count": 110,
   "id": "096077e0-e5be-424f-810a-825fb1dcbbc1",
   "metadata": {},
   "outputs": [],
   "source": [
    "##calling all helper functions- see unet_helper_functions.py\n",
    "import sys\n",
    "sys.path.append('/home/labs/rudich/meiray/meirab/foldx/mutatex/')\n",
    "from pyfoldx_functions import *\n"
   ]
  },
  {
   "cell_type": "code",
   "execution_count": 131,
   "id": "7a984865-e837-4e53-9787-cd0beeaf13d9",
   "metadata": {},
   "outputs": [],
   "source": [
    "st = Structure(code)\n"
   ]
  },
  {
   "cell_type": "code",
   "execution_count": 130,
   "id": "f35b2d57-49e5-4301-9dd6-3442028987ab",
   "metadata": {},
   "outputs": [
    {
     "data": {
      "text/plain": [
       "<bound method Structure.toPdbFile of <pyfoldx.structure.structure.Structure object at 0x14e8e38e7bb0>>"
      ]
     },
     "execution_count": 130,
     "metadata": {},
     "output_type": "execute_result"
    }
   ],
   "source": [
    "st.toPdb"
   ]
  },
  {
   "cell_type": "code",
   "execution_count": 134,
   "id": "a8d92b0c-336c-44e3-a648-ab3489d3f77b",
   "metadata": {},
   "outputs": [
    {
     "name": "stdout",
     "output_type": "stream",
     "text": [
      "Error: 'function' object has no attribute 'toPdbFile'. Check the available methods in foldxHandler.\n"
     ]
    }
   ],
   "source": [
    "from pyfoldx.structure import structure\n",
    "from pyfoldx.foldx import foldxHandler\n",
    "\n",
    "# Define the PDB ID and mutation\n",
    "code = \"6U6M\"  # Example PDB ID\n",
    "mutations = \"GI29A;\"  # Example mutation (Glycine to Alanine at position 29 in chain I)\n",
    "number_of_runs = 1  # Number of runs to perform (1 run is usually sufficient)\n",
    "\n",
    "# Create a structure object from the PDB code\n",
    "st = structure.Structure(code)\n",
    "\n",
    "# Use the getMutants method to get the mutants and ddG values\n",
    "try:\n",
    "    # Use getMutants to generate mutants and ddG values\n",
    "    ddGs, mutModels = foldxHandler.getMutants(st.toPdb, mutations, number_of_runs)\n",
    "\n",
    "    # Print the ddG values for each model\n",
    "    print(\"ΔΔG values (ddG):\")\n",
    "    print(ddGs)\n",
    "\n",
    "    # Print the mutated models\n",
    "    print(\"\\nMutated models:\")\n",
    "    print(mutModels)\n",
    "\n",
    "except AttributeError as e:\n",
    "    print(f\"Error: {e}. Check the available methods in foldxHandler.\")\n"
   ]
  },
  {
   "cell_type": "code",
   "execution_count": 127,
   "id": "1e982704-edb3-4b10-af72-73a1e435a157",
   "metadata": {},
   "outputs": [
    {
     "ename": "TypeError",
     "evalue": "'module' object is not callable",
     "output_type": "error",
     "traceback": [
      "\u001b[0;31m---------------------------------------------------------------------------\u001b[0m",
      "\u001b[0;31mTypeError\u001b[0m                                 Traceback (most recent call last)",
      "Cell \u001b[0;32mIn [127], line 2\u001b[0m\n\u001b[1;32m      1\u001b[0m \u001b[38;5;66;03m# Let's load a small structure with its PDB code from internet to work with\u001b[39;00m\n\u001b[0;32m----> 2\u001b[0m st\u001b[38;5;241m=\u001b[39m\u001b[43mstructure\u001b[49m\u001b[43m(\u001b[49m\u001b[38;5;124;43m\"\u001b[39;49m\u001b[38;5;124;43m2ci2\u001b[39;49m\u001b[38;5;124;43m\"\u001b[39;49m\u001b[43m)\u001b[49m\n",
      "\u001b[0;31mTypeError\u001b[0m: 'module' object is not callable"
     ]
    }
   ],
   "source": [
    "# Let's load a small structure with its PDB code from internet to work with\n",
    "st=structure(\"2ci2\")"
   ]
  },
  {
   "cell_type": "code",
   "execution_count": 135,
   "id": "95908f5a-7967-406c-bae9-8adb2f39c128",
   "metadata": {},
   "outputs": [
    {
     "name": "stdout",
     "output_type": "stream",
     "text": [
      "Computing total energy for structure...\n"
     ]
    },
    {
     "ename": "TypeError",
     "evalue": "expected str, bytes or os.PathLike object, not NoneType",
     "output_type": "error",
     "traceback": [
      "\u001b[0;31m---------------------------------------------------------------------------\u001b[0m",
      "\u001b[0;31mTypeError\u001b[0m                                 Traceback (most recent call last)",
      "Cell \u001b[0;32mIn [135], line 1\u001b[0m\n\u001b[0;32m----> 1\u001b[0m \u001b[43mst\u001b[49m\u001b[38;5;241;43m.\u001b[39;49m\u001b[43mgetTotalEnergy\u001b[49m\u001b[43m(\u001b[49m\u001b[43m)\u001b[49m\n",
      "File \u001b[0;32m~/.local/lib/python3.10/site-packages/pyfoldx/structure/structure.py:215\u001b[0m, in \u001b[0;36mStructure.getTotalEnergy\u001b[0;34m(self, terms, consider_waters)\u001b[0m\n\u001b[1;32m    212\u001b[0m     \u001b[38;5;28mself\u001b[39m\u001b[38;5;241m.\u001b[39mtotalEnergy \u001b[38;5;241m=\u001b[39m pd\u001b[38;5;241m.\u001b[39mDataFrame(columns\u001b[38;5;241m=\u001b[39mfoldxHandler\u001b[38;5;241m.\u001b[39mENERGY_TERMS)\n\u001b[1;32m    213\u001b[0m     terms\u001b[38;5;241m=\u001b[39mfoldxHandler\u001b[38;5;241m.\u001b[39mENERGY_TERMS\n\u001b[0;32m--> 215\u001b[0m \u001b[43mfoldxHandler\u001b[49m\u001b[38;5;241;43m.\u001b[39;49m\u001b[43mgetTotalEnergy\u001b[49m\u001b[43m(\u001b[49m\u001b[38;5;28;43mself\u001b[39;49m\u001b[43m,\u001b[49m\u001b[43m \u001b[49m\u001b[43mconsider_waters\u001b[49m\u001b[38;5;241;43m=\u001b[39;49m\u001b[43mconsider_waters\u001b[49m\u001b[43m)\u001b[49m[terms]\u001b[38;5;241m.\u001b[39mloc[\u001b[38;5;28mself\u001b[39m\u001b[38;5;241m.\u001b[39mcode]\n\u001b[1;32m    218\u001b[0m \u001b[38;5;28mprint\u001b[39m( \u001b[38;5;124m\"\u001b[39m\u001b[38;5;124mEnergy computed.\u001b[39m\u001b[38;5;124m\"\u001b[39m )\n\u001b[1;32m    219\u001b[0m \u001b[38;5;28;01mreturn\u001b[39;00m \u001b[38;5;28mself\u001b[39m\u001b[38;5;241m.\u001b[39mtotalEnergy\n",
      "File \u001b[0;32m~/.local/lib/python3.10/site-packages/pyfoldx/foldx/foldxHandler.py:87\u001b[0m, in \u001b[0;36mgetTotalEnergy\u001b[0;34m(st, consider_waters, other_parameters)\u001b[0m\n\u001b[1;32m     84\u001b[0m st\u001b[38;5;241m.\u001b[39mtoPdbFile(TMP_FOLDER\u001b[38;5;241m+\u001b[39m\u001b[38;5;124m\"\u001b[39m\u001b[38;5;124mtmp.pdb\u001b[39m\u001b[38;5;124m\"\u001b[39m)\n\u001b[1;32m     86\u001b[0m \u001b[38;5;66;03m# Run FoldX\u001b[39;00m\n\u001b[0;32m---> 87\u001b[0m \u001b[43mrunFoldX\u001b[49m\u001b[43m(\u001b[49m\u001b[43mcommand\u001b[49m\u001b[43m          \u001b[49m\u001b[38;5;241;43m=\u001b[39;49m\u001b[43m \u001b[49m\u001b[38;5;124;43m\"\u001b[39;49m\u001b[38;5;124;43mStability\u001b[39;49m\u001b[38;5;124;43m\"\u001b[39;49m\u001b[43m,\u001b[49m\u001b[43m \u001b[49m\n\u001b[1;32m     88\u001b[0m \u001b[43m         \u001b[49m\u001b[43mworking_folder\u001b[49m\u001b[43m   \u001b[49m\u001b[38;5;241;43m=\u001b[39;49m\u001b[43m \u001b[49m\u001b[43mTMP_FOLDER\u001b[49m\u001b[43m,\u001b[49m\u001b[43m \u001b[49m\n\u001b[1;32m     89\u001b[0m \u001b[43m         \u001b[49m\u001b[43mpdb\u001b[49m\u001b[43m              \u001b[49m\u001b[38;5;241;43m=\u001b[39;49m\u001b[43m \u001b[49m\u001b[38;5;124;43m\"\u001b[39;49m\u001b[38;5;124;43mtmp.pdb\u001b[39;49m\u001b[38;5;124;43m\"\u001b[39;49m\u001b[43m,\u001b[49m\n\u001b[1;32m     90\u001b[0m \u001b[43m         \u001b[49m\u001b[43mother_parameters\u001b[49m\u001b[43m \u001b[49m\u001b[38;5;241;43m=\u001b[39;49m\u001b[43m \u001b[49m\u001b[43mother_parameters\u001b[49m\u001b[43m,\u001b[49m\n\u001b[1;32m     91\u001b[0m \u001b[43m         \u001b[49m\u001b[43mconsider_waters\u001b[49m\u001b[43m  \u001b[49m\u001b[38;5;241;43m=\u001b[39;49m\u001b[43m \u001b[49m\u001b[43mconsider_waters\u001b[49m\u001b[43m \u001b[49m\u001b[43m)\u001b[49m\n\u001b[1;32m     93\u001b[0m \u001b[38;5;66;03m# Read files\u001b[39;00m\n\u001b[1;32m     94\u001b[0m st_lines \u001b[38;5;241m=\u001b[39m FileHandler\u001b[38;5;241m.\u001b[39mgetLines(TMP_FOLDER\u001b[38;5;241m+\u001b[39m\u001b[38;5;124m\"\u001b[39m\u001b[38;5;124mtmp_0_ST.fxout\u001b[39m\u001b[38;5;124m\"\u001b[39m)\n",
      "File \u001b[0;32m~/.local/lib/python3.10/site-packages/pyfoldx/foldx/foldxHandler.py:47\u001b[0m, in \u001b[0;36mrunFoldX\u001b[0;34m(command, working_folder, pdb, other_parameters, working_with_rna, silent, consider_waters)\u001b[0m\n\u001b[1;32m     44\u001b[0m     out \u001b[38;5;241m=\u001b[39m \u001b[38;5;28mopen\u001b[39m(working_folder\u001b[38;5;241m+\u001b[39m\u001b[38;5;124m\"\u001b[39m\u001b[38;5;124m./tmp.pdb\u001b[39m\u001b[38;5;124m\"\u001b[39m,\u001b[38;5;124m\"\u001b[39m\u001b[38;5;124mr\u001b[39m\u001b[38;5;124m\"\u001b[39m)\n\u001b[1;32m     46\u001b[0m \u001b[38;5;28;01mwith\u001b[39;00m out: \n\u001b[0;32m---> 47\u001b[0m     \u001b[43mcheckFoldx\u001b[49m\u001b[43m(\u001b[49m\u001b[43m)\u001b[49m\n\u001b[1;32m     50\u001b[0m     c\u001b[38;5;241m=\u001b[39m\u001b[38;5;124m\"\u001b[39m\u001b[38;5;124mcd \u001b[39m\u001b[38;5;124m\"\u001b[39m\u001b[38;5;241m+\u001b[39mworking_folder\u001b[38;5;241m+\u001b[39m\u001b[38;5;124m\"\u001b[39m\u001b[38;5;124m; \u001b[39m\u001b[38;5;124m\"\u001b[39m\n\u001b[1;32m     51\u001b[0m     c\u001b[38;5;241m+\u001b[39m\u001b[38;5;241m=\u001b[39mFOLDX_LOCATION\u001b[38;5;241m+\u001b[39m\u001b[38;5;124m\"\u001b[39m\u001b[38;5;124m --command=\u001b[39m\u001b[38;5;124m\"\u001b[39m\u001b[38;5;241m+\u001b[39mcommand\u001b[38;5;241m+\u001b[39m\u001b[38;5;124m\"\u001b[39m\u001b[38;5;124m --pdb=\u001b[39m\u001b[38;5;124m\"\u001b[39m\u001b[38;5;241m+\u001b[39mpdb\n",
      "File \u001b[0;32m~/.local/lib/python3.10/site-packages/pyfoldx/foldx/foldxHandler.py:31\u001b[0m, in \u001b[0;36mcheckFoldx\u001b[0;34m()\u001b[0m\n\u001b[1;32m     30\u001b[0m \u001b[38;5;28;01mdef\u001b[39;00m \u001b[38;5;21mcheckFoldx\u001b[39m():\n\u001b[0;32m---> 31\u001b[0m     \u001b[38;5;28;01mif\u001b[39;00m \u001b[38;5;129;01mnot\u001b[39;00m \u001b[43mFileHandler\u001b[49m\u001b[38;5;241;43m.\u001b[39;49m\u001b[43mfileExists\u001b[49m\u001b[43m(\u001b[49m\u001b[43mFOLDX_LOCATION\u001b[49m\u001b[43m)\u001b[49m:\n\u001b[1;32m     32\u001b[0m         \u001b[38;5;28mprint\u001b[39m(\u001b[38;5;124m\"\u001b[39m\u001b[38;5;124mFoldX executable not found, please set the variable FOLDX_LOCATION\u001b[39m\u001b[38;5;124m\"\u001b[39m)\n\u001b[1;32m     33\u001b[0m         exit(\u001b[38;5;241m0\u001b[39m)\n",
      "File \u001b[0;32m~/.local/lib/python3.10/site-packages/pyfoldx/handlers/fileHandler.py:30\u001b[0m, in \u001b[0;36mFileHandler.fileExists\u001b[0;34m(path)\u001b[0m\n\u001b[1;32m     23\u001b[0m \u001b[38;5;124;03m'''\u001b[39;00m\n\u001b[1;32m     24\u001b[0m \u001b[38;5;124;03mCheck if a file exists.\u001b[39;00m\n\u001b[1;32m     25\u001b[0m \u001b[38;5;124;03m\u001b[39;00m\n\u001b[1;32m     26\u001b[0m \u001b[38;5;124;03m:param path: The file or folder to check if exists.\u001b[39;00m\n\u001b[1;32m     27\u001b[0m \u001b[38;5;124;03m:return: True if the file or folder exists. \u001b[39;00m\n\u001b[1;32m     28\u001b[0m \u001b[38;5;124;03m'''\u001b[39;00m\n\u001b[1;32m     29\u001b[0m \u001b[38;5;28;01mtry\u001b[39;00m:\n\u001b[0;32m---> 30\u001b[0m     \u001b[38;5;28;01mwith\u001b[39;00m \u001b[38;5;28;43mopen\u001b[39;49m\u001b[43m(\u001b[49m\u001b[43mpath\u001b[49m\u001b[43m)\u001b[49m: \u001b[38;5;28;01mreturn\u001b[39;00m \u001b[38;5;28;01mTrue\u001b[39;00m\n\u001b[1;32m     31\u001b[0m \u001b[38;5;28;01mexcept\u001b[39;00m \u001b[38;5;167;01mIOError\u001b[39;00m:\n\u001b[1;32m     32\u001b[0m     \u001b[38;5;28;01mreturn\u001b[39;00m \u001b[38;5;28;01mFalse\u001b[39;00m\n",
      "\u001b[0;31mTypeError\u001b[0m: expected str, bytes or os.PathLike object, not NoneType"
     ]
    }
   ],
   "source": [
    "st.getTotalEnergy()"
   ]
  },
  {
   "cell_type": "code",
   "execution_count": 116,
   "id": "ad7ae9f7-3929-41af-b7d5-1d311af1826f",
   "metadata": {},
   "outputs": [
    {
     "name": "stdout",
     "output_type": "stream",
     "text": [
      "Computing residue energy for structure...\n"
     ]
    },
    {
     "ename": "TypeError",
     "evalue": "expected str, bytes or os.PathLike object, not NoneType",
     "output_type": "error",
     "traceback": [
      "\u001b[0;31m---------------------------------------------------------------------------\u001b[0m",
      "\u001b[0;31mTypeError\u001b[0m                                 Traceback (most recent call last)",
      "Cell \u001b[0;32mIn [116], line 1\u001b[0m\n\u001b[0;32m----> 1\u001b[0m \u001b[43mst\u001b[49m\u001b[38;5;241;43m.\u001b[39;49m\u001b[43mgetResiduesEnergy\u001b[49m\u001b[43m(\u001b[49m\u001b[43m)\u001b[49m\n",
      "File \u001b[0;32m~/.local/lib/python3.10/site-packages/pyfoldx/structure/structure.py:253\u001b[0m, in \u001b[0;36mStructure.getResiduesEnergy\u001b[0;34m(self, consider_waters)\u001b[0m\n\u001b[1;32m    244\u001b[0m \u001b[38;5;124;03m'''\u001b[39;00m\n\u001b[1;32m    245\u001b[0m \u001b[38;5;124;03mComputes FoldX energy for all the residues within a Structure object.\u001b[39;00m\n\u001b[1;32m    246\u001b[0m \u001b[38;5;124;03m\u001b[39;00m\n\u001b[1;32m    247\u001b[0m \u001b[38;5;124;03m:param consider_waters: If True, water molecules within the structure will be taken into account.\u001b[39;00m\n\u001b[1;32m    248\u001b[0m \u001b[38;5;124;03m:return: Pandas DataFrame containing energy terms as columns and residues as index.\u001b[39;00m\n\u001b[1;32m    249\u001b[0m \u001b[38;5;124;03m'''\u001b[39;00m\n\u001b[1;32m    251\u001b[0m \u001b[38;5;28mprint\u001b[39m( \u001b[38;5;124m\"\u001b[39m\u001b[38;5;124mComputing residue energy for structure...\u001b[39m\u001b[38;5;124m\"\u001b[39m )\n\u001b[0;32m--> 253\u001b[0m \u001b[43mfoldxHandler\u001b[49m\u001b[38;5;241;43m.\u001b[39;49m\u001b[43mgetResiduesEnergy\u001b[49m\u001b[43m(\u001b[49m\u001b[43m \u001b[49m\u001b[38;5;28;43mself\u001b[39;49m\u001b[43m,\u001b[49m\u001b[43m \u001b[49m\u001b[43mconsider_waters\u001b[49m\u001b[43m)\u001b[49m\n\u001b[1;32m    255\u001b[0m \u001b[38;5;28mprint\u001b[39m( \u001b[38;5;124m\"\u001b[39m\u001b[38;5;124mEnergy computed.\u001b[39m\u001b[38;5;124m\"\u001b[39m )\n\u001b[1;32m    256\u001b[0m \u001b[38;5;28;01mreturn\u001b[39;00m \u001b[38;5;28mself\u001b[39m\u001b[38;5;241m.\u001b[39mresiduesEnergy\n",
      "File \u001b[0;32m~/.local/lib/python3.10/site-packages/pyfoldx/foldx/foldxHandler.py:182\u001b[0m, in \u001b[0;36mgetResiduesEnergy\u001b[0;34m(st, consider_waters, other_parameters)\u001b[0m\n\u001b[1;32m    179\u001b[0m st\u001b[38;5;241m.\u001b[39mtoPdbFile(TMP_FOLDER\u001b[38;5;241m+\u001b[39m\u001b[38;5;124m\"\u001b[39m\u001b[38;5;124mtmp.pdb\u001b[39m\u001b[38;5;124m\"\u001b[39m)\n\u001b[1;32m    181\u001b[0m \u001b[38;5;66;03m# Run FoldX\u001b[39;00m\n\u001b[0;32m--> 182\u001b[0m \u001b[43mrunFoldX\u001b[49m\u001b[43m(\u001b[49m\u001b[43mcommand\u001b[49m\u001b[43m          \u001b[49m\u001b[38;5;241;43m=\u001b[39;49m\u001b[43m \u001b[49m\u001b[38;5;124;43m\"\u001b[39;49m\u001b[38;5;124;43mSequenceDetail\u001b[39;49m\u001b[38;5;124;43m\"\u001b[39;49m\u001b[43m,\u001b[49m\u001b[43m \u001b[49m\n\u001b[1;32m    183\u001b[0m \u001b[43m         \u001b[49m\u001b[43mworking_folder\u001b[49m\u001b[43m   \u001b[49m\u001b[38;5;241;43m=\u001b[39;49m\u001b[43m \u001b[49m\u001b[43mTMP_FOLDER\u001b[49m\u001b[43m,\u001b[49m\u001b[43m \u001b[49m\n\u001b[1;32m    184\u001b[0m \u001b[43m         \u001b[49m\u001b[43mpdb\u001b[49m\u001b[43m              \u001b[49m\u001b[38;5;241;43m=\u001b[39;49m\u001b[43m \u001b[49m\u001b[38;5;124;43m\"\u001b[39;49m\u001b[38;5;124;43mtmp.pdb\u001b[39;49m\u001b[38;5;124;43m\"\u001b[39;49m\u001b[43m,\u001b[49m\n\u001b[1;32m    185\u001b[0m \u001b[43m         \u001b[49m\u001b[43mother_parameters\u001b[49m\u001b[43m \u001b[49m\u001b[38;5;241;43m=\u001b[39;49m\u001b[43m \u001b[49m\u001b[43mother_parameters\u001b[49m\u001b[43m,\u001b[49m\n\u001b[1;32m    186\u001b[0m \u001b[43m         \u001b[49m\u001b[43mconsider_waters\u001b[49m\u001b[43m  \u001b[49m\u001b[38;5;241;43m=\u001b[39;49m\u001b[43m \u001b[49m\u001b[43mconsider_waters\u001b[49m\u001b[43m \u001b[49m\u001b[43m)\u001b[49m\n\u001b[1;32m    188\u001b[0m \u001b[38;5;66;03m# Read files\u001b[39;00m\n\u001b[1;32m    189\u001b[0m sd_lines \u001b[38;5;241m=\u001b[39m FileHandler\u001b[38;5;241m.\u001b[39mgetLines(TMP_FOLDER\u001b[38;5;241m+\u001b[39m\u001b[38;5;124m\"\u001b[39m\u001b[38;5;124mSD_tmp.fxout\u001b[39m\u001b[38;5;124m\"\u001b[39m)\n",
      "File \u001b[0;32m~/.local/lib/python3.10/site-packages/pyfoldx/foldx/foldxHandler.py:47\u001b[0m, in \u001b[0;36mrunFoldX\u001b[0;34m(command, working_folder, pdb, other_parameters, working_with_rna, silent, consider_waters)\u001b[0m\n\u001b[1;32m     44\u001b[0m     out \u001b[38;5;241m=\u001b[39m \u001b[38;5;28mopen\u001b[39m(working_folder\u001b[38;5;241m+\u001b[39m\u001b[38;5;124m\"\u001b[39m\u001b[38;5;124m./tmp.pdb\u001b[39m\u001b[38;5;124m\"\u001b[39m,\u001b[38;5;124m\"\u001b[39m\u001b[38;5;124mr\u001b[39m\u001b[38;5;124m\"\u001b[39m)\n\u001b[1;32m     46\u001b[0m \u001b[38;5;28;01mwith\u001b[39;00m out: \n\u001b[0;32m---> 47\u001b[0m     \u001b[43mcheckFoldx\u001b[49m\u001b[43m(\u001b[49m\u001b[43m)\u001b[49m\n\u001b[1;32m     50\u001b[0m     c\u001b[38;5;241m=\u001b[39m\u001b[38;5;124m\"\u001b[39m\u001b[38;5;124mcd \u001b[39m\u001b[38;5;124m\"\u001b[39m\u001b[38;5;241m+\u001b[39mworking_folder\u001b[38;5;241m+\u001b[39m\u001b[38;5;124m\"\u001b[39m\u001b[38;5;124m; \u001b[39m\u001b[38;5;124m\"\u001b[39m\n\u001b[1;32m     51\u001b[0m     c\u001b[38;5;241m+\u001b[39m\u001b[38;5;241m=\u001b[39mFOLDX_LOCATION\u001b[38;5;241m+\u001b[39m\u001b[38;5;124m\"\u001b[39m\u001b[38;5;124m --command=\u001b[39m\u001b[38;5;124m\"\u001b[39m\u001b[38;5;241m+\u001b[39mcommand\u001b[38;5;241m+\u001b[39m\u001b[38;5;124m\"\u001b[39m\u001b[38;5;124m --pdb=\u001b[39m\u001b[38;5;124m\"\u001b[39m\u001b[38;5;241m+\u001b[39mpdb\n",
      "File \u001b[0;32m~/.local/lib/python3.10/site-packages/pyfoldx/foldx/foldxHandler.py:31\u001b[0m, in \u001b[0;36mcheckFoldx\u001b[0;34m()\u001b[0m\n\u001b[1;32m     30\u001b[0m \u001b[38;5;28;01mdef\u001b[39;00m \u001b[38;5;21mcheckFoldx\u001b[39m():\n\u001b[0;32m---> 31\u001b[0m     \u001b[38;5;28;01mif\u001b[39;00m \u001b[38;5;129;01mnot\u001b[39;00m \u001b[43mFileHandler\u001b[49m\u001b[38;5;241;43m.\u001b[39;49m\u001b[43mfileExists\u001b[49m\u001b[43m(\u001b[49m\u001b[43mFOLDX_LOCATION\u001b[49m\u001b[43m)\u001b[49m:\n\u001b[1;32m     32\u001b[0m         \u001b[38;5;28mprint\u001b[39m(\u001b[38;5;124m\"\u001b[39m\u001b[38;5;124mFoldX executable not found, please set the variable FOLDX_LOCATION\u001b[39m\u001b[38;5;124m\"\u001b[39m)\n\u001b[1;32m     33\u001b[0m         exit(\u001b[38;5;241m0\u001b[39m)\n",
      "File \u001b[0;32m~/.local/lib/python3.10/site-packages/pyfoldx/handlers/fileHandler.py:30\u001b[0m, in \u001b[0;36mFileHandler.fileExists\u001b[0;34m(path)\u001b[0m\n\u001b[1;32m     23\u001b[0m \u001b[38;5;124;03m'''\u001b[39;00m\n\u001b[1;32m     24\u001b[0m \u001b[38;5;124;03mCheck if a file exists.\u001b[39;00m\n\u001b[1;32m     25\u001b[0m \u001b[38;5;124;03m\u001b[39;00m\n\u001b[1;32m     26\u001b[0m \u001b[38;5;124;03m:param path: The file or folder to check if exists.\u001b[39;00m\n\u001b[1;32m     27\u001b[0m \u001b[38;5;124;03m:return: True if the file or folder exists. \u001b[39;00m\n\u001b[1;32m     28\u001b[0m \u001b[38;5;124;03m'''\u001b[39;00m\n\u001b[1;32m     29\u001b[0m \u001b[38;5;28;01mtry\u001b[39;00m:\n\u001b[0;32m---> 30\u001b[0m     \u001b[38;5;28;01mwith\u001b[39;00m \u001b[38;5;28;43mopen\u001b[39;49m\u001b[43m(\u001b[49m\u001b[43mpath\u001b[49m\u001b[43m)\u001b[49m: \u001b[38;5;28;01mreturn\u001b[39;00m \u001b[38;5;28;01mTrue\u001b[39;00m\n\u001b[1;32m     31\u001b[0m \u001b[38;5;28;01mexcept\u001b[39;00m \u001b[38;5;167;01mIOError\u001b[39;00m:\n\u001b[1;32m     32\u001b[0m     \u001b[38;5;28;01mreturn\u001b[39;00m \u001b[38;5;28;01mFalse\u001b[39;00m\n",
      "\u001b[0;31mTypeError\u001b[0m: expected str, bytes or os.PathLike object, not NoneType"
     ]
    }
   ],
   "source": [
    "st.getResiduesEnergy()"
   ]
  },
  {
   "cell_type": "code",
   "execution_count": 7,
   "id": "8c027119-2436-4958-a44c-28a2fcf50aae",
   "metadata": {},
   "outputs": [],
   "source": [
    "import os\n",
    "os.environ['FOLDX_LOCATION'] = \"/home/labs/rudich/meiray/meirab/foldx/foldx_20241231\"\n"
   ]
  },
  {
   "cell_type": "code",
   "execution_count": 15,
   "id": "7575883b-1d1b-49de-8342-101f4b829352",
   "metadata": {},
   "outputs": [
    {
     "name": "stdout",
     "output_type": "stream",
     "text": [
      "False\n"
     ]
    }
   ],
   "source": [
    "import os\n",
    "print(os.path.isfile('/home/labs/rudich/meiray/meirab/foldx'))\n"
   ]
  },
  {
   "cell_type": "code",
   "execution_count": 8,
   "id": "264680df-e9f3-45ff-91fb-9179c180b5d9",
   "metadata": {},
   "outputs": [],
   "source": [
    "#Some other imports, to work with the data and to plot\n",
    "import pandas as pd\n",
    "import seaborn as sns\n",
    "import matplotlib.pyplot as plt\n",
    "\n",
    "# We want to print full tables\n",
    "pd.set_option(\"display.max_rows\", 1000, \"display.max_columns\", 1000)"
   ]
  },
  {
   "cell_type": "code",
   "execution_count": 21,
   "id": "19bbd548-2083-4606-8fd3-9c30da8e6543",
   "metadata": {},
   "outputs": [],
   "source": [
    "def mutate(pdb_string, mutations, number_of_runs=1):\n",
    "    \"\"\"\n",
    "    Generate a mutated structure\n",
    "    \n",
    "    :param pdb_string: a string containing a structure in PDB format\n",
    "    :param mutations: mutations to be performed in foldx format (example GI1A means to mutate GLY in position 1 of molecule I to ALA)\n",
    "    \n",
    "    :return: tuple, where element 0 is the DataFrame of ddGs of each models respect to wildtype structure \n",
    "            and element 1 is the array of strings with the mutated model\n",
    "    \"\"\"\n",
    "    \n",
    "    if type(pdb_string) == type([]):\n",
    "        pdb_string = \"\\n\".join(pdb_string)\n",
    "    \n",
    "    if not in_notebook():\n",
    "        out = OutputGrabber()\n",
    "        with out: \n",
    "            ddGs, mutModels = foldxHandler.getMutant(pdb_string, mutations, number_of_runs) \n",
    "    else:\n",
    "        ddGs, mutModels = foldxHandler.getMutant(pdb_string, mutations, number_of_runs) \n",
    "    \n",
    "    return (pd.DataFrame(ddGs, columns=ENERGY_TERMS), mutModels)"
   ]
  },
  {
   "cell_type": "code",
   "execution_count": 35,
   "id": "2d47d558-3aa3-4a83-89d7-f8f8a0ae74ee",
   "metadata": {},
   "outputs": [
    {
     "name": "stdout",
     "output_type": "stream",
     "text": [
      "started\n"
     ]
    },
    {
     "ename": "NameError",
     "evalue": "name 'getTotalEnergy' is not defined",
     "output_type": "error",
     "traceback": [
      "\u001b[0;31m---------------------------------------------------------------------------\u001b[0m",
      "\u001b[0;31mNameError\u001b[0m                                 Traceback (most recent call last)",
      "Cell \u001b[0;32mIn [35], line 133\u001b[0m\n\u001b[1;32m    131\u001b[0m code \u001b[38;5;241m=\u001b[39m \u001b[38;5;124m\"\u001b[39m\u001b[38;5;124m6U6M\u001b[39m\u001b[38;5;124m\"\u001b[39m\n\u001b[1;32m    132\u001b[0m st \u001b[38;5;241m=\u001b[39m Structure(code)\n\u001b[0;32m--> 133\u001b[0m \u001b[38;5;28mprint\u001b[39m( \u001b[43mgetTotalEnergy\u001b[49m(code, st\u001b[38;5;241m.\u001b[39mtoPdb(), \u001b[38;5;28;01mFalse\u001b[39;00m) )\n\u001b[1;32m    134\u001b[0m \u001b[38;5;28mprint\u001b[39m( getInterfaceEnergy(st\u001b[38;5;241m.\u001b[39mtoPdb(), \u001b[38;5;28;01mFalse\u001b[39;00m) )\n\u001b[1;32m    135\u001b[0m \u001b[38;5;66;03m#print( getResiduesEnergy(st.toPdb(), False) )\u001b[39;00m\n\u001b[1;32m    136\u001b[0m \u001b[38;5;66;03m#print( mutate(st.toPdb(), \"GI29A;\",1)[0] )\u001b[39;00m\n\u001b[1;32m    137\u001b[0m \u001b[38;5;66;03m#print( mutate(st.toPdb(), \"GI29A;\",1)[1][0][0] )\u001b[39;00m\n\u001b[1;32m    138\u001b[0m \n\u001b[1;32m    139\u001b[0m \u001b[38;5;66;03m#print( repair(st.toPdb(), [\"GI29\"]) )\u001b[39;00m\n\u001b[1;32m    140\u001b[0m \u001b[38;5;66;03m#for k,v in getNetworks(st.toPdb()).items() : print( k , v )\u001b[39;00m\n",
      "\u001b[0;31mNameError\u001b[0m: name 'getTotalEnergy' is not defined"
     ]
    }
   ],
   "source": [
    "'''\n",
    "Created on Nov 9, 2020\n",
    "@author: lradusky\n",
    "@summary: python bindings for foldx commands\n",
    "'''\n",
    "\n",
    "from pyfoldx.structure.misc import OutputGrabber, in_notebook\n",
    "from pyfoldx.foldx import foldxHandler\n",
    "from pyfoldx.structure import structure\n",
    "import pandas as pd\n",
    "from pyfoldx.foldx.foldxHandler import ENERGY_TERMS\n",
    "    \n",
    "\n",
    "\n",
    "def getInterfaceEnergy(pdb_string, consider_waters=False):\n",
    "    \"\"\"\n",
    "    Compute the interface energy of FoldX for molecules within a structure\n",
    "    \n",
    "    :param pdb_string: a string containing a structure in PDB format\n",
    "    :param consider_waters: take waters into account for energy computations\n",
    "    \n",
    "    :return: pandas Dataframe with energy terms of the analyzed structure\n",
    "             with index corresponding to pair of molecules\n",
    "    \"\"\"\n",
    "    \n",
    "    if type(pdb_string) == type([]):\n",
    "        pdb_string = \"\\n\".join(pdb_string)\n",
    "    \n",
    "    if not in_notebook():\n",
    "        out = OutputGrabber()\n",
    "        with out: \n",
    "            df = pd.DataFrame.from_dict(foldxHandler.getComplexEnergy(pdb_string, consider_waters), orient=\"index\", columns=ENERGY_TERMS)\n",
    "    else:\n",
    "            df = pd.DataFrame.from_dict(foldxHandler.getComplexEnergy(pdb_string, consider_waters), orient=\"index\", columns=ENERGY_TERMS)\n",
    "    \n",
    "    return df\n",
    "\n",
    "def getResiduesEnergy(pdb_string, consider_waters=False):\n",
    "    \"\"\"\n",
    "    Compute the interface energy of FoldX for molecules within a structure\n",
    "    \n",
    "    :param pdb_string: a string containing a structure in PDB format\n",
    "    :param consider_waters: take waters into account for energy computations\n",
    "    \n",
    "    :return: pandas Dataframe with energy terms of the analyzed structure\n",
    "             with index corresponding to each residue\n",
    "    \"\"\"\n",
    "    \n",
    "    if type(pdb_string) == type([]):\n",
    "        pdb_string = \"\\n\".join(pdb_string)\n",
    "    \n",
    "    if not in_notebook():\n",
    "        out = OutputGrabber()\n",
    "        with out: \n",
    "            df = pd.DataFrame.from_dict(foldxHandler.getResiduesEnergy(pdb_string, consider_waters), orient=\"index\", columns=ENERGY_TERMS)\n",
    "    else:\n",
    "        df = pd.DataFrame.from_dict(foldxHandler.getResiduesEnergy(pdb_string, consider_waters), orient=\"index\", columns=ENERGY_TERMS)\n",
    "    \n",
    "    return df\n",
    "\n",
    "def mutate(pdb_string, mutations, number_of_runs=1):\n",
    "    \"\"\"\n",
    "    Generate a mutated structure\n",
    "    \n",
    "    :param pdb_string: a string containing a structure in PDB format\n",
    "    :param mutations: mutations to be performed in foldx format (example GI1A means to mutate GLY in position 1 of molecule I to ALA)\n",
    "    \n",
    "    :return: tuple, where element 0 is the DataFrame of ddGs of each models respect to wildtype structure \n",
    "            and element 1 is the array of strings with the mutated model\n",
    "    \"\"\"\n",
    "    \n",
    "    if type(pdb_string) == type([]):\n",
    "        pdb_string = \"\\n\".join(pdb_string)\n",
    "    \n",
    "    if not in_notebook():\n",
    "        out = OutputGrabber()\n",
    "        with out: \n",
    "            ddGs, mutModels = foldxHandler.getMutant(pdb_string, mutations, number_of_runs) \n",
    "    else:\n",
    "        ddGs, mutModels = foldxHandler.getMutant(pdb_string, mutations, number_of_runs) \n",
    "    \n",
    "    return (pd.DataFrame(ddGs, columns=ENERGY_TERMS), mutModels)\n",
    "    \n",
    "def repair(pdb_string,fix_residues=[]):\n",
    "    \"\"\"\n",
    "    Repair the sidechains of a structure\n",
    "    \n",
    "    :param pdb_string: a string containing a structure in PDB format\n",
    "    :param fix_residues: list of residues to remain fixed in foldx format (example GI1 means GLY in position 1 of molecule I)\n",
    "    \n",
    "    :return: repaired model in string format\n",
    "    \"\"\"\n",
    "    \n",
    "    if type(pdb_string) == type([]):\n",
    "        pdb_string = \"\\n\".join(pdb_string)\n",
    "    \n",
    "    if not in_notebook():\n",
    "        out = OutputGrabber()\n",
    "        with out: \n",
    "            ret = foldxHandler.getRepairedStructure(pdb_string, fix_residues)\n",
    "    else:\n",
    "        ret = foldxHandler.getRepairedStructure(pdb_string, fix_residues)\n",
    "    \n",
    "    return ret\n",
    "\n",
    "def getNetworks(pdb_string):\n",
    "    \n",
    "    \"\"\"\n",
    "    Get networking information of a structure\n",
    "    \n",
    "    :param pdb_string: a string containing a structure in PDB format\n",
    "\n",
    "    :return: dictionary where keys are network types and elements are linked residue names for that network\n",
    "    \"\"\"\n",
    "    \n",
    "    if type(pdb_string) == type([]):\n",
    "        pdb_string = \"\\n\".join(pdb_string)\n",
    "    \n",
    "    if not in_notebook():\n",
    "        out = OutputGrabber()\n",
    "        with out: \n",
    "            ret = foldxHandler.getNetworks(pdb_string)\n",
    "    else:\n",
    "        ret = foldxHandler.getNetworks(pdb_string)\n",
    "    \n",
    "    return ret\n",
    "\n",
    "if __name__ == \"__main__\":\n",
    "    print(\"started\")\n",
    "\n",
    "    code = \"6U6M\"\n",
    "    st = Structure(code)\n",
    "    print( getTotalEnergy(code, st.toPdb(), False) )\n",
    "    print( getInterfaceEnergy(st.toPdb(), False) )\n",
    "    #print( getResiduesEnergy(st.toPdb(), False) )\n",
    "    #print( mutate(st.toPdb(), \"GI29A;\",1)[0] )\n",
    "    #print( mutate(st.toPdb(), \"GI29A;\",1)[1][0][0] )\n",
    "    \n",
    "    #print( repair(st.toPdb(), [\"GI29\"]) )\n",
    "    #for k,v in getNetworks(st.toPdb()).items() : print( k , v )\n",
    "    '''\n",
    "    code = \"5XJL\"\n",
    "    st = structure(code)\n",
    "    print (getInterfaceEnergy(st.toPdb(), False) )\n",
    "    '''\n",
    "    \n",
    "    \n",
    "    \n",
    "    \n",
    "    "
   ]
  },
  {
   "cell_type": "code",
   "execution_count": 9,
   "id": "eb337c95-a1c3-4393-ad89-3f7da8ab74d4",
   "metadata": {},
   "outputs": [],
   "source": [
    "# Let's load a small structure with its PDB code from internet to work with\n",
    "st=Structure(\"2ci2\")"
   ]
  },
  {
   "cell_type": "code",
   "execution_count": 10,
   "id": "3095d664-8ecb-441a-87da-cdae6b4dfba9",
   "metadata": {},
   "outputs": [
    {
     "name": "stdout",
     "output_type": "stream",
     "text": [
      "Computing total energy for structure...\n"
     ]
    },
    {
     "ename": "TypeError",
     "evalue": "expected str, bytes or os.PathLike object, not NoneType",
     "output_type": "error",
     "traceback": [
      "\u001b[0;31m---------------------------------------------------------------------------\u001b[0m",
      "\u001b[0;31mTypeError\u001b[0m                                 Traceback (most recent call last)",
      "Cell \u001b[0;32mIn [19], line 1\u001b[0m\n\u001b[0;32m----> 1\u001b[0m \u001b[43mst\u001b[49m\u001b[38;5;241;43m.\u001b[39;49m\u001b[43mgetTotalEnergy\u001b[49m\u001b[43m(\u001b[49m\u001b[43m)\u001b[49m\n",
      "File \u001b[0;32m~/.local/lib/python3.10/site-packages/pyfoldx/structure/structure.py:215\u001b[0m, in \u001b[0;36mStructure.getTotalEnergy\u001b[0;34m(self, terms, consider_waters)\u001b[0m\n\u001b[1;32m    212\u001b[0m     \u001b[38;5;28mself\u001b[39m\u001b[38;5;241m.\u001b[39mtotalEnergy \u001b[38;5;241m=\u001b[39m pd\u001b[38;5;241m.\u001b[39mDataFrame(columns\u001b[38;5;241m=\u001b[39mfoldxHandler\u001b[38;5;241m.\u001b[39mENERGY_TERMS)\n\u001b[1;32m    213\u001b[0m     terms\u001b[38;5;241m=\u001b[39mfoldxHandler\u001b[38;5;241m.\u001b[39mENERGY_TERMS\n\u001b[0;32m--> 215\u001b[0m \u001b[43mfoldxHandler\u001b[49m\u001b[38;5;241;43m.\u001b[39;49m\u001b[43mgetTotalEnergy\u001b[49m\u001b[43m(\u001b[49m\u001b[38;5;28;43mself\u001b[39;49m\u001b[43m,\u001b[49m\u001b[43m \u001b[49m\u001b[43mconsider_waters\u001b[49m\u001b[38;5;241;43m=\u001b[39;49m\u001b[43mconsider_waters\u001b[49m\u001b[43m)\u001b[49m[terms]\u001b[38;5;241m.\u001b[39mloc[\u001b[38;5;28mself\u001b[39m\u001b[38;5;241m.\u001b[39mcode]\n\u001b[1;32m    218\u001b[0m \u001b[38;5;28mprint\u001b[39m( \u001b[38;5;124m\"\u001b[39m\u001b[38;5;124mEnergy computed.\u001b[39m\u001b[38;5;124m\"\u001b[39m )\n\u001b[1;32m    219\u001b[0m \u001b[38;5;28;01mreturn\u001b[39;00m \u001b[38;5;28mself\u001b[39m\u001b[38;5;241m.\u001b[39mtotalEnergy\n",
      "File \u001b[0;32m~/.local/lib/python3.10/site-packages/pyfoldx/foldx/foldxHandler.py:87\u001b[0m, in \u001b[0;36mgetTotalEnergy\u001b[0;34m(st, consider_waters, other_parameters)\u001b[0m\n\u001b[1;32m     84\u001b[0m st\u001b[38;5;241m.\u001b[39mtoPdbFile(TMP_FOLDER\u001b[38;5;241m+\u001b[39m\u001b[38;5;124m\"\u001b[39m\u001b[38;5;124mtmp.pdb\u001b[39m\u001b[38;5;124m\"\u001b[39m)\n\u001b[1;32m     86\u001b[0m \u001b[38;5;66;03m# Run FoldX\u001b[39;00m\n\u001b[0;32m---> 87\u001b[0m \u001b[43mrunFoldX\u001b[49m\u001b[43m(\u001b[49m\u001b[43mcommand\u001b[49m\u001b[43m          \u001b[49m\u001b[38;5;241;43m=\u001b[39;49m\u001b[43m \u001b[49m\u001b[38;5;124;43m\"\u001b[39;49m\u001b[38;5;124;43mStability\u001b[39;49m\u001b[38;5;124;43m\"\u001b[39;49m\u001b[43m,\u001b[49m\u001b[43m \u001b[49m\n\u001b[1;32m     88\u001b[0m \u001b[43m         \u001b[49m\u001b[43mworking_folder\u001b[49m\u001b[43m   \u001b[49m\u001b[38;5;241;43m=\u001b[39;49m\u001b[43m \u001b[49m\u001b[43mTMP_FOLDER\u001b[49m\u001b[43m,\u001b[49m\u001b[43m \u001b[49m\n\u001b[1;32m     89\u001b[0m \u001b[43m         \u001b[49m\u001b[43mpdb\u001b[49m\u001b[43m              \u001b[49m\u001b[38;5;241;43m=\u001b[39;49m\u001b[43m \u001b[49m\u001b[38;5;124;43m\"\u001b[39;49m\u001b[38;5;124;43mtmp.pdb\u001b[39;49m\u001b[38;5;124;43m\"\u001b[39;49m\u001b[43m,\u001b[49m\n\u001b[1;32m     90\u001b[0m \u001b[43m         \u001b[49m\u001b[43mother_parameters\u001b[49m\u001b[43m \u001b[49m\u001b[38;5;241;43m=\u001b[39;49m\u001b[43m \u001b[49m\u001b[43mother_parameters\u001b[49m\u001b[43m,\u001b[49m\n\u001b[1;32m     91\u001b[0m \u001b[43m         \u001b[49m\u001b[43mconsider_waters\u001b[49m\u001b[43m  \u001b[49m\u001b[38;5;241;43m=\u001b[39;49m\u001b[43m \u001b[49m\u001b[43mconsider_waters\u001b[49m\u001b[43m \u001b[49m\u001b[43m)\u001b[49m\n\u001b[1;32m     93\u001b[0m \u001b[38;5;66;03m# Read files\u001b[39;00m\n\u001b[1;32m     94\u001b[0m st_lines \u001b[38;5;241m=\u001b[39m FileHandler\u001b[38;5;241m.\u001b[39mgetLines(TMP_FOLDER\u001b[38;5;241m+\u001b[39m\u001b[38;5;124m\"\u001b[39m\u001b[38;5;124mtmp_0_ST.fxout\u001b[39m\u001b[38;5;124m\"\u001b[39m)\n",
      "File \u001b[0;32m~/.local/lib/python3.10/site-packages/pyfoldx/foldx/foldxHandler.py:47\u001b[0m, in \u001b[0;36mrunFoldX\u001b[0;34m(command, working_folder, pdb, other_parameters, working_with_rna, silent, consider_waters)\u001b[0m\n\u001b[1;32m     44\u001b[0m     out \u001b[38;5;241m=\u001b[39m \u001b[38;5;28mopen\u001b[39m(working_folder\u001b[38;5;241m+\u001b[39m\u001b[38;5;124m\"\u001b[39m\u001b[38;5;124m./tmp.pdb\u001b[39m\u001b[38;5;124m\"\u001b[39m,\u001b[38;5;124m\"\u001b[39m\u001b[38;5;124mr\u001b[39m\u001b[38;5;124m\"\u001b[39m)\n\u001b[1;32m     46\u001b[0m \u001b[38;5;28;01mwith\u001b[39;00m out: \n\u001b[0;32m---> 47\u001b[0m     \u001b[43mcheckFoldx\u001b[49m\u001b[43m(\u001b[49m\u001b[43m)\u001b[49m\n\u001b[1;32m     50\u001b[0m     c\u001b[38;5;241m=\u001b[39m\u001b[38;5;124m\"\u001b[39m\u001b[38;5;124mcd \u001b[39m\u001b[38;5;124m\"\u001b[39m\u001b[38;5;241m+\u001b[39mworking_folder\u001b[38;5;241m+\u001b[39m\u001b[38;5;124m\"\u001b[39m\u001b[38;5;124m; \u001b[39m\u001b[38;5;124m\"\u001b[39m\n\u001b[1;32m     51\u001b[0m     c\u001b[38;5;241m+\u001b[39m\u001b[38;5;241m=\u001b[39mFOLDX_LOCATION\u001b[38;5;241m+\u001b[39m\u001b[38;5;124m\"\u001b[39m\u001b[38;5;124m --command=\u001b[39m\u001b[38;5;124m\"\u001b[39m\u001b[38;5;241m+\u001b[39mcommand\u001b[38;5;241m+\u001b[39m\u001b[38;5;124m\"\u001b[39m\u001b[38;5;124m --pdb=\u001b[39m\u001b[38;5;124m\"\u001b[39m\u001b[38;5;241m+\u001b[39mpdb\n",
      "File \u001b[0;32m~/.local/lib/python3.10/site-packages/pyfoldx/foldx/foldxHandler.py:31\u001b[0m, in \u001b[0;36mcheckFoldx\u001b[0;34m()\u001b[0m\n\u001b[1;32m     30\u001b[0m \u001b[38;5;28;01mdef\u001b[39;00m \u001b[38;5;21mcheckFoldx\u001b[39m():\n\u001b[0;32m---> 31\u001b[0m     \u001b[38;5;28;01mif\u001b[39;00m \u001b[38;5;129;01mnot\u001b[39;00m \u001b[43mFileHandler\u001b[49m\u001b[38;5;241;43m.\u001b[39;49m\u001b[43mfileExists\u001b[49m\u001b[43m(\u001b[49m\u001b[43mFOLDX_LOCATION\u001b[49m\u001b[43m)\u001b[49m:\n\u001b[1;32m     32\u001b[0m         \u001b[38;5;28mprint\u001b[39m(\u001b[38;5;124m\"\u001b[39m\u001b[38;5;124mFoldX executable not found, please set the variable FOLDX_LOCATION\u001b[39m\u001b[38;5;124m\"\u001b[39m)\n\u001b[1;32m     33\u001b[0m         exit(\u001b[38;5;241m0\u001b[39m)\n",
      "File \u001b[0;32m~/.local/lib/python3.10/site-packages/pyfoldx/handlers/fileHandler.py:30\u001b[0m, in \u001b[0;36mFileHandler.fileExists\u001b[0;34m(path)\u001b[0m\n\u001b[1;32m     23\u001b[0m \u001b[38;5;124;03m'''\u001b[39;00m\n\u001b[1;32m     24\u001b[0m \u001b[38;5;124;03mCheck if a file exists.\u001b[39;00m\n\u001b[1;32m     25\u001b[0m \u001b[38;5;124;03m\u001b[39;00m\n\u001b[1;32m     26\u001b[0m \u001b[38;5;124;03m:param path: The file or folder to check if exists.\u001b[39;00m\n\u001b[1;32m     27\u001b[0m \u001b[38;5;124;03m:return: True if the file or folder exists. \u001b[39;00m\n\u001b[1;32m     28\u001b[0m \u001b[38;5;124;03m'''\u001b[39;00m\n\u001b[1;32m     29\u001b[0m \u001b[38;5;28;01mtry\u001b[39;00m:\n\u001b[0;32m---> 30\u001b[0m     \u001b[38;5;28;01mwith\u001b[39;00m \u001b[38;5;28;43mopen\u001b[39;49m\u001b[43m(\u001b[49m\u001b[43mpath\u001b[49m\u001b[43m)\u001b[49m: \u001b[38;5;28;01mreturn\u001b[39;00m \u001b[38;5;28;01mTrue\u001b[39;00m\n\u001b[1;32m     31\u001b[0m \u001b[38;5;28;01mexcept\u001b[39;00m \u001b[38;5;167;01mIOError\u001b[39;00m:\n\u001b[1;32m     32\u001b[0m     \u001b[38;5;28;01mreturn\u001b[39;00m \u001b[38;5;28;01mFalse\u001b[39;00m\n",
      "\u001b[0;31mTypeError\u001b[0m: expected str, bytes or os.PathLike object, not NoneType"
     ]
    }
   ],
   "source": [
    "st.getTotalEnergy()"
   ]
  },
  {
   "cell_type": "code",
   "execution_count": 14,
   "id": "5de82d69-7de5-4c02-a41f-08e8c4d4f603",
   "metadata": {},
   "outputs": [
    {
     "name": "stdout",
     "output_type": "stream",
     "text": [
      "/home/labs/rudich/meiray/meirab/foldx/foldx_20241231\n"
     ]
    }
   ],
   "source": [
    "print(os.environ['FOLDX_LOCATION'])\n"
   ]
  },
  {
   "cell_type": "code",
   "execution_count": null,
   "id": "645ab3a1-d47a-469c-aa35-4c2c86dec339",
   "metadata": {},
   "outputs": [],
   "source": []
  },
  {
   "cell_type": "code",
   "execution_count": 39,
   "id": "0408e4b5-a8af-491a-988a-6a84068e8d7d",
   "metadata": {},
   "outputs": [],
   "source": [
    "import os\n",
    "import subprocess\n",
    "import pandas as pd\n",
    "import numpy as np\n",
    "import matplotlib.pyplot as plt\n",
    "import seaborn as sns\n",
    "from matplotlib.colors import Normalize\n",
    "from Bio import SeqIO\n",
    "from Bio.PDB import PDBParser, PPBuilder\n",
    "\n",
    "def create_mutation_file(mutation_list, chain, output_file):\n",
    "    \"\"\"\n",
    "    Create a mutation file in the format required by FoldX.\n",
    "\n",
    "    Args:\n",
    "        mutation_list (list): List of tuples (residue_number, wt_residue, mutant_residue).\n",
    "        chain (str): Chain ID where mutations occur.\n",
    "        output_file (str): Path to the mutation file to save.\n",
    "    \"\"\"\n",
    "    with open(output_file, \"w\") as f:\n",
    "        for mutation in mutation_list:\n",
    "            residue_number, wt_residue, mutant_residue = mutation\n",
    "            mutation_str = f\"{wt_residue}{chain}{residue_number}{mutant_residue};\\n\"\n",
    "            f.write(mutation_str)\n",
    "\n",
    "def run_foldx(pdb_file, mutation_file, output_dir):\n",
    "    \"\"\"\n",
    "    Run FoldX with a given mutation file.\n",
    "\n",
    "    Args:\n",
    "        pdb_file (str): Path to the PDB file.\n",
    "        mutation_file (str): Path to the mutation file.\n",
    "        output_dir (str): Directory to save FoldX output.\n",
    "\n",
    "    Returns:\n",
    "        float: ΔG value or None if FoldX failed.\n",
    "    \"\"\"\n",
    "    foldx_path = \"/home/labs/rudich/meiray/meirab/foldx/foldx_20241231\" \n",
    "\n",
    "    os.makedirs(output_dir, exist_ok=True)\n",
    "    command = (\n",
    "        f\"{foldx_path} --command=BuildModel --pdb={pdb_file} --mutant-file={mutation_file} --output-dir={output_dir}\"\n",
    "    )\n",
    "    result = subprocess.run(command, shell=True, capture_output=True, text=True)\n",
    "\n",
    "    if result.returncode != 0:\n",
    "        print(\"Error running FoldX:\", result.stderr)\n",
    "        return None\n",
    "\n",
    "    # Parse the FoldX output for the ΔG value\n",
    "    report_file = os.path.join(output_dir, \"Average_Stability.fxout\")\n",
    "    if os.path.exists(report_file):\n",
    "        with open(report_file, \"r\") as f:\n",
    "            for line in f:\n",
    "                if line.strip().startswith(\"TOTAL\"):\n",
    "                    delta_g = float(line.split()[1])  # ΔG is typically in the second column\n",
    "                    return delta_g\n",
    "    else:\n",
    "        print(\"FoldX report file not found.\")\n",
    "    return None\n",
    "\n",
    "def generate_mutations(sequence, chain):\n",
    "    \"\"\"\n",
    "    Generate a list of mutations for all amino acid positions in a chain.\n",
    "\n",
    "    Args:\n",
    "        sequence (str): Amino acid sequence of the chain.\n",
    "        chain (str): Chain ID.\n",
    "\n",
    "    Returns:\n",
    "        list: List of tuples (residue_number, wt_residue, mutant_residue).\n",
    "    \"\"\"\n",
    "    mutations = []\n",
    "    for i, wt_residue in enumerate(sequence):\n",
    "        for mutant_residue in \"ACDEFGHIKLMNPQRSTVWY\":  # All 20 amino acids\n",
    "            if mutant_residue != wt_residue:\n",
    "                mutations.append((i + 1, wt_residue, mutant_residue))  # PDB uses 1-based indexing\n",
    "    return mutations\n",
    "\n",
    "def calculate_delta_G_for_mutations(pdb_file, sequence, chain):\n",
    "    \"\"\"\n",
    "    Calculate ΔG values for all mutations in a chain.\n",
    "\n",
    "    Args:\n",
    "        pdb_file (str): Path to the PDB file.\n",
    "        sequence (str): Amino acid sequence of the chain.\n",
    "        chain (str): Chain ID.\n",
    "\n",
    "    Returns:\n",
    "        list, list: List of mutations and their ΔG values.\n",
    "    \"\"\"\n",
    "    mutations = generate_mutations(sequence, chain)\n",
    "    delta_g_values = []\n",
    "\n",
    "    output_dir = \"foldx_output\"\n",
    "    mutation_file = os.path.join(output_dir, \"mutations.txt\")\n",
    "    os.makedirs(output_dir, exist_ok=True)\n",
    "\n",
    "    create_mutation_file(mutations, chain, mutation_file)\n",
    "    delta_g = run_foldx(pdb_file, mutation_file, output_dir)\n",
    "\n",
    "    if delta_g is not None:\n",
    "        for _ in mutations:  # Assume the same ΔG for simplicity\n",
    "            delta_g_values.append(delta_g)\n",
    "\n",
    "    return mutations, delta_g_values\n",
    "\n",
    "def generate_heatmap_html(mutations, delta_g_values, sequence):\n",
    "    \"\"\"\n",
    "    Generate an HTML report with a heatmap of ΔG values.\n",
    "\n",
    "    Args:\n",
    "        mutations (list): List of mutations.\n",
    "        delta_g_values (list): List of ΔG values.\n",
    "        sequence (str): Amino acid sequence.\n",
    "    \"\"\"\n",
    "    mutation_matrix = np.array(delta_g_values).reshape(len(sequence), 20)\n",
    "    df = pd.DataFrame(\n",
    "        mutation_matrix,\n",
    "        index=list(sequence),\n",
    "        columns=[\"A\", \"C\", \"D\", \"E\", \"F\", \"G\", \"H\", \"I\", \"K\", \"L\", \"M\", \"N\", \"P\", \"Q\", \"R\", \"S\", \"T\", \"V\", \"W\", \"Y\"]\n",
    "    )\n",
    "\n",
    "    # Create the heatmap\n",
    "    plt.figure(figsize=(12, 8))\n",
    "    sns.heatmap(df, annot=True, cmap=\"coolwarm\", norm=Normalize(vmin=-10, vmax=10), cbar_kws={\"label\": \"ΔG (kcal/mol)\"})\n",
    "    plt.title(\"ΔG Change for Mutations\")\n",
    "\n",
    "    # Save the heatmap as an image\n",
    "    plt.tight_layout()\n",
    "    plt.savefig(\"heatmap.png\")\n",
    "\n",
    "    # Create HTML report\n",
    "    html = f\"\"\"\n",
    "    <html>\n",
    "        <head><title>Mutation Heatmap</title></head>\n",
    "        <body>\n",
    "            <h1>ΔG Heatmap for Mutations</h1>\n",
    "            <img src=\"heatmap.png\" alt=\"Mutation Heatmap\">\n",
    "        </body>\n",
    "    </html>\n",
    "    \"\"\"\n",
    "    with open(\"mutation_heatmap.html\", \"w\") as f:\n",
    "        f.write(html)\n",
    "\n",
    "    print(\"HTML report generated: mutation_heatmap.html\")\n",
    "\n",
    "# Example pipeline function\n",
    "def mutation_pipeline(pdb_file, sequence, chain):\n",
    "    \"\"\"\n",
    "    Run the entire mutation pipeline: generate mutations, calculate ΔG values, and create a heatmap.\n",
    "\n",
    "    Args:\n",
    "        pdb_file (str): Path to the PDB file.\n",
    "        sequence (str): Amino acid sequence of the chain.\n",
    "        chain (str): Chain ID.\n",
    "    \"\"\"\n",
    "    mutations, delta_g_values = calculate_delta_G_for_mutations(pdb_file, sequence, chain)\n",
    "    generate_heatmap_html(mutations, delta_g_values, sequence)\n"
   ]
  },
  {
   "cell_type": "code",
   "execution_count": 40,
   "id": "cd83c95c-010d-4b0f-b880-4bea1da1d566",
   "metadata": {},
   "outputs": [],
   "source": [
    "def extract_chains_and_sequence(pdb_file):\n",
    "    parser = PDBParser(QUIET=True)\n",
    "    structure = parser.get_structure(\"protein\", pdb_file)\n",
    "\n",
    "    chains = {}\n",
    "    for model in structure:  # Iterate over models (usually only one)\n",
    "        for chain in model:  # Iterate over chains\n",
    "            chain_id = chain.id\n",
    "            sequence = \"\"\n",
    "            for residue in chain:\n",
    "                # Skip non-standard residues\n",
    "                if residue.id[0] == \" \":\n",
    "                    sequence += residue.resname[0]  # Get the first letter of the 3-letter residue code\n",
    "            chains[chain_id] = sequence\n",
    "\n",
    "    return chains\n"
   ]
  },
  {
   "cell_type": "code",
   "execution_count": 41,
   "id": "16fa4041-75d3-40e7-98b8-c425bf7aaee1",
   "metadata": {},
   "outputs": [
    {
     "name": "stdout",
     "output_type": "stream",
     "text": [
      "Chain A: AVIAMPSVALTAAGLGVAIALVGGTGLAGAVLLGAIAATLA\n",
      "Error running FoldX: \n"
     ]
    },
    {
     "ename": "ValueError",
     "evalue": "cannot reshape array of size 0 into shape (41,20)",
     "output_type": "error",
     "traceback": [
      "\u001b[0;31m---------------------------------------------------------------------------\u001b[0m",
      "\u001b[0;31mValueError\u001b[0m                                Traceback (most recent call last)",
      "Cell \u001b[0;32mIn [41], line 11\u001b[0m\n\u001b[1;32m      6\u001b[0m \u001b[38;5;28;01mfor\u001b[39;00m chain_id, sequence \u001b[38;5;129;01min\u001b[39;00m chains\u001b[38;5;241m.\u001b[39mitems():\n\u001b[1;32m      7\u001b[0m     \u001b[38;5;28mprint\u001b[39m(\u001b[38;5;124mf\u001b[39m\u001b[38;5;124m\"\u001b[39m\u001b[38;5;124mChain \u001b[39m\u001b[38;5;132;01m{\u001b[39;00mchain_id\u001b[38;5;132;01m}\u001b[39;00m\u001b[38;5;124m: \u001b[39m\u001b[38;5;132;01m{\u001b[39;00msequence\u001b[38;5;132;01m}\u001b[39;00m\u001b[38;5;124m\"\u001b[39m)\n\u001b[0;32m---> 11\u001b[0m \u001b[43mmutation_pipeline\u001b[49m\u001b[43m(\u001b[49m\u001b[43mpdb_file\u001b[49m\u001b[43m,\u001b[49m\u001b[43m \u001b[49m\u001b[43msequence\u001b[49m\u001b[43m,\u001b[49m\u001b[43mchain_id\u001b[49m\u001b[43m)\u001b[49m\n",
      "Cell \u001b[0;32mIn [39], line 159\u001b[0m, in \u001b[0;36mmutation_pipeline\u001b[0;34m(pdb_file, sequence, chain)\u001b[0m\n\u001b[1;32m    150\u001b[0m \u001b[38;5;124;03m\"\"\"\u001b[39;00m\n\u001b[1;32m    151\u001b[0m \u001b[38;5;124;03mRun the entire mutation pipeline: generate mutations, calculate ΔG values, and create a heatmap.\u001b[39;00m\n\u001b[1;32m    152\u001b[0m \n\u001b[0;32m   (...)\u001b[0m\n\u001b[1;32m    156\u001b[0m \u001b[38;5;124;03m    chain (str): Chain ID.\u001b[39;00m\n\u001b[1;32m    157\u001b[0m \u001b[38;5;124;03m\"\"\"\u001b[39;00m\n\u001b[1;32m    158\u001b[0m mutations, delta_g_values \u001b[38;5;241m=\u001b[39m calculate_delta_G_for_mutations(pdb_file, sequence, chain)\n\u001b[0;32m--> 159\u001b[0m \u001b[43mgenerate_heatmap_html\u001b[49m\u001b[43m(\u001b[49m\u001b[43mmutations\u001b[49m\u001b[43m,\u001b[49m\u001b[43m \u001b[49m\u001b[43mdelta_g_values\u001b[49m\u001b[43m,\u001b[49m\u001b[43m \u001b[49m\u001b[43msequence\u001b[49m\u001b[43m)\u001b[49m\n",
      "Cell \u001b[0;32mIn [39], line 117\u001b[0m, in \u001b[0;36mgenerate_heatmap_html\u001b[0;34m(mutations, delta_g_values, sequence)\u001b[0m\n\u001b[1;32m    108\u001b[0m \u001b[38;5;28;01mdef\u001b[39;00m \u001b[38;5;21mgenerate_heatmap_html\u001b[39m(mutations, delta_g_values, sequence):\n\u001b[1;32m    109\u001b[0m     \u001b[38;5;124;03m\"\"\"\u001b[39;00m\n\u001b[1;32m    110\u001b[0m \u001b[38;5;124;03m    Generate an HTML report with a heatmap of ΔG values.\u001b[39;00m\n\u001b[1;32m    111\u001b[0m \n\u001b[0;32m   (...)\u001b[0m\n\u001b[1;32m    115\u001b[0m \u001b[38;5;124;03m        sequence (str): Amino acid sequence.\u001b[39;00m\n\u001b[1;32m    116\u001b[0m \u001b[38;5;124;03m    \"\"\"\u001b[39;00m\n\u001b[0;32m--> 117\u001b[0m     mutation_matrix \u001b[38;5;241m=\u001b[39m \u001b[43mnp\u001b[49m\u001b[38;5;241;43m.\u001b[39;49m\u001b[43marray\u001b[49m\u001b[43m(\u001b[49m\u001b[43mdelta_g_values\u001b[49m\u001b[43m)\u001b[49m\u001b[38;5;241;43m.\u001b[39;49m\u001b[43mreshape\u001b[49m\u001b[43m(\u001b[49m\u001b[38;5;28;43mlen\u001b[39;49m\u001b[43m(\u001b[49m\u001b[43msequence\u001b[49m\u001b[43m)\u001b[49m\u001b[43m,\u001b[49m\u001b[43m \u001b[49m\u001b[38;5;241;43m20\u001b[39;49m\u001b[43m)\u001b[49m\n\u001b[1;32m    118\u001b[0m     df \u001b[38;5;241m=\u001b[39m pd\u001b[38;5;241m.\u001b[39mDataFrame(\n\u001b[1;32m    119\u001b[0m         mutation_matrix,\n\u001b[1;32m    120\u001b[0m         index\u001b[38;5;241m=\u001b[39m\u001b[38;5;28mlist\u001b[39m(sequence),\n\u001b[1;32m    121\u001b[0m         columns\u001b[38;5;241m=\u001b[39m[\u001b[38;5;124m\"\u001b[39m\u001b[38;5;124mA\u001b[39m\u001b[38;5;124m\"\u001b[39m, \u001b[38;5;124m\"\u001b[39m\u001b[38;5;124mC\u001b[39m\u001b[38;5;124m\"\u001b[39m, \u001b[38;5;124m\"\u001b[39m\u001b[38;5;124mD\u001b[39m\u001b[38;5;124m\"\u001b[39m, \u001b[38;5;124m\"\u001b[39m\u001b[38;5;124mE\u001b[39m\u001b[38;5;124m\"\u001b[39m, \u001b[38;5;124m\"\u001b[39m\u001b[38;5;124mF\u001b[39m\u001b[38;5;124m\"\u001b[39m, \u001b[38;5;124m\"\u001b[39m\u001b[38;5;124mG\u001b[39m\u001b[38;5;124m\"\u001b[39m, \u001b[38;5;124m\"\u001b[39m\u001b[38;5;124mH\u001b[39m\u001b[38;5;124m\"\u001b[39m, \u001b[38;5;124m\"\u001b[39m\u001b[38;5;124mI\u001b[39m\u001b[38;5;124m\"\u001b[39m, \u001b[38;5;124m\"\u001b[39m\u001b[38;5;124mK\u001b[39m\u001b[38;5;124m\"\u001b[39m, \u001b[38;5;124m\"\u001b[39m\u001b[38;5;124mL\u001b[39m\u001b[38;5;124m\"\u001b[39m, \u001b[38;5;124m\"\u001b[39m\u001b[38;5;124mM\u001b[39m\u001b[38;5;124m\"\u001b[39m, \u001b[38;5;124m\"\u001b[39m\u001b[38;5;124mN\u001b[39m\u001b[38;5;124m\"\u001b[39m, \u001b[38;5;124m\"\u001b[39m\u001b[38;5;124mP\u001b[39m\u001b[38;5;124m\"\u001b[39m, \u001b[38;5;124m\"\u001b[39m\u001b[38;5;124mQ\u001b[39m\u001b[38;5;124m\"\u001b[39m, \u001b[38;5;124m\"\u001b[39m\u001b[38;5;124mR\u001b[39m\u001b[38;5;124m\"\u001b[39m, \u001b[38;5;124m\"\u001b[39m\u001b[38;5;124mS\u001b[39m\u001b[38;5;124m\"\u001b[39m, \u001b[38;5;124m\"\u001b[39m\u001b[38;5;124mT\u001b[39m\u001b[38;5;124m\"\u001b[39m, \u001b[38;5;124m\"\u001b[39m\u001b[38;5;124mV\u001b[39m\u001b[38;5;124m\"\u001b[39m, \u001b[38;5;124m\"\u001b[39m\u001b[38;5;124mW\u001b[39m\u001b[38;5;124m\"\u001b[39m, \u001b[38;5;124m\"\u001b[39m\u001b[38;5;124mY\u001b[39m\u001b[38;5;124m\"\u001b[39m]\n\u001b[1;32m    122\u001b[0m     )\n\u001b[1;32m    124\u001b[0m     \u001b[38;5;66;03m# Create the heatmap\u001b[39;00m\n",
      "\u001b[0;31mValueError\u001b[0m: cannot reshape array of size 0 into shape (41,20)"
     ]
    }
   ],
   "source": [
    "pdb_file = \"/home/labs/rudich/meiray/meirab/foldx/1W4F.pdb\"\n",
    "\n",
    "# sequence = extract_sequence_from_pdb(pdb_file)\n",
    "chains = extract_chains_and_sequence(pdb_file)\n",
    "\n",
    "for chain_id, sequence in chains.items():\n",
    "    print(f\"Chain {chain_id}: {sequence}\")\n",
    "\n",
    "\n",
    "\n",
    "mutation_pipeline(pdb_file, sequence,chain_id)\n"
   ]
  },
  {
   "cell_type": "code",
   "execution_count": null,
   "id": "76468d0c-72c7-49fe-8cd2-76d99b71da66",
   "metadata": {},
   "outputs": [],
   "source": [
    "'/home/labs/rudich/meiray/meirab/foldx/foldx_20241231' --command=BuildModel --pdb={'/home/labs/rudich/meiray/meirab/foldx/1W4F.pdb'} --mutant-file={'/home/labs/rudich/meiray/meirab/foldx/mutatex/foldx_output/mutations.txt'} --output-dir={'/home/labs/rudich/meiray/meirab/foldx/mutatex/foldx_output'} --screen 1 --debug 1\n",
    "/path/to/foldx --command=BuildModel --pdb=/path/to/input.pdb --mutant-file=/path/to/mutation.txt --output-dir=/path/to/output --screen 1 --debug 1\n"
   ]
  },
  {
   "cell_type": "code",
   "execution_count": 29,
   "id": "0b17ebfd-f47a-46eb-9e47-5111b4615490",
   "metadata": {},
   "outputs": [
    {
     "ename": "NameError",
     "evalue": "name 'result' is not defined",
     "output_type": "error",
     "traceback": [
      "\u001b[0;31m---------------------------------------------------------------------------\u001b[0m",
      "\u001b[0;31mNameError\u001b[0m                                 Traceback (most recent call last)",
      "Cell \u001b[0;32mIn [29], line 1\u001b[0m\n\u001b[0;32m----> 1\u001b[0m \u001b[38;5;28mprint\u001b[39m(\u001b[38;5;124m\"\u001b[39m\u001b[38;5;124mError running FoldX:\u001b[39m\u001b[38;5;124m\"\u001b[39m, \u001b[43mresult\u001b[49m\u001b[38;5;241m.\u001b[39mstderr)\n",
      "\u001b[0;31mNameError\u001b[0m: name 'result' is not defined"
     ]
    }
   ],
   "source": [
    "print(\"Error running FoldX:\", result.stderr)\n"
   ]
  },
  {
   "cell_type": "code",
   "execution_count": 30,
   "id": "3f055725-464f-4318-a66c-b1c1e7464a65",
   "metadata": {},
   "outputs": [
    {
     "ename": "TypeError",
     "evalue": "Popen.__init__() missing 1 required positional argument: 'args'",
     "output_type": "error",
     "traceback": [
      "\u001b[0;31m---------------------------------------------------------------------------\u001b[0m",
      "\u001b[0;31mTypeError\u001b[0m                                 Traceback (most recent call last)",
      "Cell \u001b[0;32mIn [30], line 1\u001b[0m\n\u001b[0;32m----> 1\u001b[0m \u001b[43msubprocess\u001b[49m\u001b[38;5;241;43m.\u001b[39;49m\u001b[43mrun\u001b[49m\u001b[43m(\u001b[49m\u001b[43m)\u001b[49m\n",
      "File \u001b[0;32m~/.conda/envs/protease-pipeline/lib/python3.10/subprocess.py:501\u001b[0m, in \u001b[0;36mrun\u001b[0;34m(input, capture_output, timeout, check, *popenargs, **kwargs)\u001b[0m\n\u001b[1;32m    498\u001b[0m     kwargs[\u001b[38;5;124m'\u001b[39m\u001b[38;5;124mstdout\u001b[39m\u001b[38;5;124m'\u001b[39m] \u001b[38;5;241m=\u001b[39m PIPE\n\u001b[1;32m    499\u001b[0m     kwargs[\u001b[38;5;124m'\u001b[39m\u001b[38;5;124mstderr\u001b[39m\u001b[38;5;124m'\u001b[39m] \u001b[38;5;241m=\u001b[39m PIPE\n\u001b[0;32m--> 501\u001b[0m \u001b[38;5;28;01mwith\u001b[39;00m \u001b[43mPopen\u001b[49m\u001b[43m(\u001b[49m\u001b[38;5;241;43m*\u001b[39;49m\u001b[43mpopenargs\u001b[49m\u001b[43m,\u001b[49m\u001b[43m \u001b[49m\u001b[38;5;241;43m*\u001b[39;49m\u001b[38;5;241;43m*\u001b[39;49m\u001b[43mkwargs\u001b[49m\u001b[43m)\u001b[49m \u001b[38;5;28;01mas\u001b[39;00m process:\n\u001b[1;32m    502\u001b[0m     \u001b[38;5;28;01mtry\u001b[39;00m:\n\u001b[1;32m    503\u001b[0m         stdout, stderr \u001b[38;5;241m=\u001b[39m process\u001b[38;5;241m.\u001b[39mcommunicate(\u001b[38;5;28minput\u001b[39m, timeout\u001b[38;5;241m=\u001b[39mtimeout)\n",
      "\u001b[0;31mTypeError\u001b[0m: Popen.__init__() missing 1 required positional argument: 'args'"
     ]
    }
   ],
   "source": [
    "subprocess.run()"
   ]
  },
  {
   "cell_type": "code",
   "execution_count": 34,
   "id": "99b73d3d-f30f-41ca-a8da-e6ba04d16db5",
   "metadata": {},
   "outputs": [],
   "source": [
    "def run_foldx(pdb_file, mutation_file, output_dir):\n",
    "    \"\"\"\n",
    "    Run FoldX with a given mutation file.\n",
    "\n",
    "    Args:\n",
    "        pdb_file (str): Path to the PDB file.\n",
    "        mutation_file (str): Path to the mutation file.\n",
    "        output_dir (str): Directory to save FoldX output.\n",
    "\n",
    "    Returns:\n",
    "        float: ΔG value or None if FoldX failed.\n",
    "    \"\"\"\n",
    "    foldx_path = \"/home/labs/rudich/meiray/meirab/foldx/foldx_20241231\" \n",
    "\n",
    "    os.makedirs(output_dir, exist_ok=True)\n",
    "    command = (\n",
    "        f\"{foldx_path} --command=BuildModel --pdb={pdb_file} --mutant-file={mutation_file} --output-dir={output_dir}\"\n",
    "    )\n",
    "    result = subprocess.run(command, shell=True, capture_output=True, text=True)\n",
    "\n",
    "    if result.returncode != 0:\n",
    "        print(\"Error running FoldX:\")\n",
    "        print(\"stderr:\", result.stderr)\n",
    "        print(\"stdout:\", result.stdout)\n",
    "        return None\n",
    "\n",
    "    # Parse the FoldX output for the ΔG value\n",
    "    report_file = os.path.join(output_dir, \"Average_Stability.fxout\")\n",
    "    if os.path.exists(report_file):\n",
    "        with open(report_file, \"r\") as f:\n",
    "            for line in f:\n",
    "                if line.strip().startswith(\"TOTAL\"):\n",
    "                    delta_g = float(line.split()[1])  # ΔG is typically in the second column\n",
    "                    return delta_g\n",
    "    else:\n",
    "        print(\"FoldX report file not found.\")\n",
    "    return None\n"
   ]
  },
  {
   "cell_type": "code",
   "execution_count": 38,
   "id": "e99a8511-1cea-427c-9b0f-caa17d3aa50c",
   "metadata": {},
   "outputs": [
    {
     "name": "stdout",
     "output_type": "stream",
     "text": [
      "Error running FoldX:\n",
      "stderr: \n",
      "stdout:    ********************************************\n",
      "   ***                                      ***\n",
      "   ***             FoldX 4 (c)              ***\n",
      "   ***                                      ***\n",
      "   ***     code by the FoldX Consortium     ***\n",
      "   ***                                      ***\n",
      "   ***     Jesper Borg, Frederic Rousseau   ***\n",
      "   ***    Joost Schymkowitz, Luis Serrano   ***\n",
      "   ***    Peter Vanhee, Erik Verschueren    ***\n",
      "   ***     Lies Baeten, Javier Delgado      ***\n",
      "   ***       and Francois Stricher          ***\n",
      "   *** and any other of the 9! permutations ***\n",
      "   ***   based on an original concept by    ***\n",
      "   ***   Raphael Guerois and Luis Serrano   ***\n",
      "   ********************************************\n",
      "\n",
      "No pdbs for the run found at:\n",
      "\"./\"\n",
      "Foldx will end\n",
      "\n"
     ]
    }
   ],
   "source": [
    "\n",
    "mutation_file = '/home/labs/rudich/meiray/meirab/foldx/mutatex/foldx_output/mutations.txt'\n",
    "output_dir = \"foldx_output\"\n",
    "result = run_foldx(pdb_file, mutation_file, output_dir)\n"
   ]
  },
  {
   "cell_type": "code",
   "execution_count": null,
   "id": "dbe808fa-9727-429f-b512-0fddb0adccf2",
   "metadata": {},
   "outputs": [],
   "source": [
    "/home/labs/rudich/meiray/meirab/foldx/foldx_20241231 --version\n"
   ]
  }
 ],
 "metadata": {
  "kernelspec": {
   "display_name": "Python 3 (ipykernel)",
   "language": "python",
   "name": "python3"
  },
  "language_info": {
   "codemirror_mode": {
    "name": "ipython",
    "version": 3
   },
   "file_extension": ".py",
   "mimetype": "text/x-python",
   "name": "python",
   "nbconvert_exporter": "python",
   "pygments_lexer": "ipython3",
   "version": "3.10.6"
  }
 },
 "nbformat": 4,
 "nbformat_minor": 5
}
